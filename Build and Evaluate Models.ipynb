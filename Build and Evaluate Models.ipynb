{
 "cells": [
  {
   "cell_type": "markdown",
   "metadata": {},
   "source": [
    "Carga de las librerias para el proceso"
   ]
  },
  {
   "cell_type": "code",
   "execution_count": 1,
   "metadata": {},
   "outputs": [],
   "source": [
    "# Básicas para el trabajo de los datos\n",
    "import numpy as np\n",
    "import pandas as pd\n",
    "import scipy\n",
    "from math import sqrt\n",
    "import matplotlib.pyplot as plt\n",
    "\n",
    "# Estimadores Regresión\n",
    "from sklearn.ensemble import RandomForestRegressor\n",
    "from sklearn.linear_model import LinearRegression\n",
    "from sklearn.svm import SVR\n",
    "from sklearn import linear_model\n",
    "\n",
    "# Estimadores Clasificación\n",
    "from sklearn.svm import SVC\n",
    "from sklearn.ensemble import RandomForestClassifier\n",
    "from sklearn.linear_model import RidgeClassifier\n",
    "\n",
    "# Métricas del modelo\n",
    "from sklearn.metrics import mean_squared_error\n",
    "from sklearn.metrics import r2_score\n",
    "from sklearn.model_selection import cross_val_score\n",
    "\n",
    "# Cross Validation\n",
    "from sklearn.model_selection import train_test_split"
   ]
  },
  {
   "cell_type": "markdown",
   "metadata": {},
   "source": [
    "Carga de la información, análisis y pre-proceso"
   ]
  },
  {
   "cell_type": "code",
   "execution_count": 2,
   "metadata": {
    "scrolled": true
   },
   "outputs": [
    {
     "name": "stdout",
     "output_type": "stream",
     "text": [
      "***** Parte de la información a procesar *****\n",
      "   ID  LIMIT_BAL  SEX  EDUCATION  MARRIAGE  AGE  PAY_0  PAY_2  PAY_3  PAY_4  \\\n",
      "0   1      20000    2          2         1   24      2      2     -1     -1   \n",
      "1   2     120000    2          2         2   26     -1      2      0      0   \n",
      "2   3      90000    2          2         2   34      0      0      0      0   \n",
      "3   4      50000    2          2         1   37      0      0      0      0   \n",
      "4   5      50000    1          2         1   57     -1      0     -1      0   \n",
      "\n",
      "   ...  BILL_AMT4  BILL_AMT5  BILL_AMT6  PAY_AMT1  PAY_AMT2  PAY_AMT3  \\\n",
      "0  ...          0          0          0         0       689         0   \n",
      "1  ...       3272       3455       3261         0      1000      1000   \n",
      "2  ...      14331      14948      15549      1518      1500      1000   \n",
      "3  ...      28314      28959      29547      2000      2019      1200   \n",
      "4  ...      20940      19146      19131      2000     36681     10000   \n",
      "\n",
      "   PAY_AMT4  PAY_AMT5  PAY_AMT6  default payment next month  \n",
      "0         0         0         0                           1  \n",
      "1      1000         0      2000                           1  \n",
      "2      1000      1000      5000                           0  \n",
      "3      1100      1069      1000                           0  \n",
      "4      9000       689       679                           0  \n",
      "\n",
      "[5 rows x 25 columns]\n",
      "***** Composición de los datos del Data Set *****\n",
      "                 ID       LIMIT_BAL           SEX     EDUCATION      MARRIAGE  \\\n",
      "count  30000.000000    30000.000000  30000.000000  30000.000000  30000.000000   \n",
      "mean   15000.500000   167484.322667      1.603733      1.853133      1.551867   \n",
      "std     8660.398374   129747.661567      0.489129      0.790349      0.521970   \n",
      "min        1.000000    10000.000000      1.000000      0.000000      0.000000   \n",
      "25%     7500.750000    50000.000000      1.000000      1.000000      1.000000   \n",
      "50%    15000.500000   140000.000000      2.000000      2.000000      2.000000   \n",
      "75%    22500.250000   240000.000000      2.000000      2.000000      2.000000   \n",
      "max    30000.000000  1000000.000000      2.000000      6.000000      3.000000   \n",
      "\n",
      "                AGE         PAY_0         PAY_2         PAY_3         PAY_4  \\\n",
      "count  30000.000000  30000.000000  30000.000000  30000.000000  30000.000000   \n",
      "mean      35.485500     -0.016700     -0.133767     -0.166200     -0.220667   \n",
      "std        9.217904      1.123802      1.197186      1.196868      1.169139   \n",
      "min       21.000000     -2.000000     -2.000000     -2.000000     -2.000000   \n",
      "25%       28.000000     -1.000000     -1.000000     -1.000000     -1.000000   \n",
      "50%       34.000000      0.000000      0.000000      0.000000      0.000000   \n",
      "75%       41.000000      0.000000      0.000000      0.000000      0.000000   \n",
      "max       79.000000      8.000000      8.000000      8.000000      8.000000   \n",
      "\n",
      "       ...      BILL_AMT4      BILL_AMT5      BILL_AMT6       PAY_AMT1  \\\n",
      "count  ...   30000.000000   30000.000000   30000.000000   30000.000000   \n",
      "mean   ...   43262.948967   40311.400967   38871.760400    5663.580500   \n",
      "std    ...   64332.856134   60797.155770   59554.107537   16563.280354   \n",
      "min    ... -170000.000000  -81334.000000 -339603.000000       0.000000   \n",
      "25%    ...    2326.750000    1763.000000    1256.000000    1000.000000   \n",
      "50%    ...   19052.000000   18104.500000   17071.000000    2100.000000   \n",
      "75%    ...   54506.000000   50190.500000   49198.250000    5006.000000   \n",
      "max    ...  891586.000000  927171.000000  961664.000000  873552.000000   \n",
      "\n",
      "           PAY_AMT2      PAY_AMT3       PAY_AMT4       PAY_AMT5  \\\n",
      "count  3.000000e+04   30000.00000   30000.000000   30000.000000   \n",
      "mean   5.921163e+03    5225.68150    4826.076867    4799.387633   \n",
      "std    2.304087e+04   17606.96147   15666.159744   15278.305679   \n",
      "min    0.000000e+00       0.00000       0.000000       0.000000   \n",
      "25%    8.330000e+02     390.00000     296.000000     252.500000   \n",
      "50%    2.009000e+03    1800.00000    1500.000000    1500.000000   \n",
      "75%    5.000000e+03    4505.00000    4013.250000    4031.500000   \n",
      "max    1.684259e+06  896040.00000  621000.000000  426529.000000   \n",
      "\n",
      "            PAY_AMT6  default payment next month  \n",
      "count   30000.000000                30000.000000  \n",
      "mean     5215.502567                    0.221200  \n",
      "std     17777.465775                    0.415062  \n",
      "min         0.000000                    0.000000  \n",
      "25%       117.750000                    0.000000  \n",
      "50%      1500.000000                    0.000000  \n",
      "75%      4000.000000                    0.000000  \n",
      "max    528666.000000                    1.000000  \n",
      "\n",
      "[8 rows x 25 columns]\n"
     ]
    }
   ],
   "source": [
    "# Carga el archivo csv dentro de Python\n",
    "credit = pd.read_csv('default of credit card clients.csv', header =1)\n",
    "# Ver una parte de la información del data set cargado\n",
    "print('***** Parte de la información a procesar *****')\n",
    "print(credit.head())\n",
    "# Ver la composición de los datos del data set\n",
    "print('***** Composición de los datos del Data Set *****')\n",
    "print(credit.describe())"
   ]
  },
  {
   "cell_type": "code",
   "execution_count": 3,
   "metadata": {},
   "outputs": [
    {
     "name": "stdout",
     "output_type": "stream",
     "text": [
      "***** Tipos de datos del Data Set *****\n",
      "<class 'pandas.core.frame.DataFrame'>\n",
      "RangeIndex: 30000 entries, 0 to 29999\n",
      "Data columns (total 25 columns):\n",
      "ID                            30000 non-null int64\n",
      "LIMIT_BAL                     30000 non-null int64\n",
      "SEX                           30000 non-null int64\n",
      "EDUCATION                     30000 non-null int64\n",
      "MARRIAGE                      30000 non-null int64\n",
      "AGE                           30000 non-null int64\n",
      "PAY_0                         30000 non-null int64\n",
      "PAY_2                         30000 non-null int64\n",
      "PAY_3                         30000 non-null int64\n",
      "PAY_4                         30000 non-null int64\n",
      "PAY_5                         30000 non-null int64\n",
      "PAY_6                         30000 non-null int64\n",
      "BILL_AMT1                     30000 non-null int64\n",
      "BILL_AMT2                     30000 non-null int64\n",
      "BILL_AMT3                     30000 non-null int64\n",
      "BILL_AMT4                     30000 non-null int64\n",
      "BILL_AMT5                     30000 non-null int64\n",
      "BILL_AMT6                     30000 non-null int64\n",
      "PAY_AMT1                      30000 non-null int64\n",
      "PAY_AMT2                      30000 non-null int64\n",
      "PAY_AMT3                      30000 non-null int64\n",
      "PAY_AMT4                      30000 non-null int64\n",
      "PAY_AMT5                      30000 non-null int64\n",
      "PAY_AMT6                      30000 non-null int64\n",
      "default payment next month    30000 non-null int64\n",
      "dtypes: int64(25)\n",
      "memory usage: 5.7 MB\n"
     ]
    }
   ],
   "source": [
    "# Verificación de los tipos de datos de las variables\n",
    "print('***** Tipos de datos del Data Set *****')\n",
    "credit.info()"
   ]
  },
  {
   "cell_type": "code",
   "execution_count": 4,
   "metadata": {},
   "outputs": [
    {
     "name": "stdout",
     "output_type": "stream",
     "text": [
      "***** Data Set sin el ID *****\n",
      "<class 'pandas.core.frame.DataFrame'>\n",
      "RangeIndex: 30000 entries, 0 to 29999\n",
      "Data columns (total 24 columns):\n",
      "LIMIT_BAL                     30000 non-null int64\n",
      "SEX                           30000 non-null int64\n",
      "EDUCATION                     30000 non-null int64\n",
      "MARRIAGE                      30000 non-null int64\n",
      "AGE                           30000 non-null int64\n",
      "PAY_0                         30000 non-null int64\n",
      "PAY_2                         30000 non-null int64\n",
      "PAY_3                         30000 non-null int64\n",
      "PAY_4                         30000 non-null int64\n",
      "PAY_5                         30000 non-null int64\n",
      "PAY_6                         30000 non-null int64\n",
      "BILL_AMT1                     30000 non-null int64\n",
      "BILL_AMT2                     30000 non-null int64\n",
      "BILL_AMT3                     30000 non-null int64\n",
      "BILL_AMT4                     30000 non-null int64\n",
      "BILL_AMT5                     30000 non-null int64\n",
      "BILL_AMT6                     30000 non-null int64\n",
      "PAY_AMT1                      30000 non-null int64\n",
      "PAY_AMT2                      30000 non-null int64\n",
      "PAY_AMT3                      30000 non-null int64\n",
      "PAY_AMT4                      30000 non-null int64\n",
      "PAY_AMT5                      30000 non-null int64\n",
      "PAY_AMT6                      30000 non-null int64\n",
      "default payment next month    30000 non-null int64\n",
      "dtypes: int64(24)\n",
      "memory usage: 5.5 MB\n"
     ]
    }
   ],
   "source": [
    "# Se elimina el ID por no se un dato requerido en el análisis\n",
    "credit2 = credit.drop('ID', axis=1)\n",
    "# Se confirma el proceso\n",
    "print('***** Data Set sin el ID *****')\n",
    "credit2.info()"
   ]
  },
  {
   "cell_type": "code",
   "execution_count": 5,
   "metadata": {
    "scrolled": true
   },
   "outputs": [
    {
     "data": {
      "text/html": [
       "<div>\n",
       "<style scoped>\n",
       "    .dataframe tbody tr th:only-of-type {\n",
       "        vertical-align: middle;\n",
       "    }\n",
       "\n",
       "    .dataframe tbody tr th {\n",
       "        vertical-align: top;\n",
       "    }\n",
       "\n",
       "    .dataframe thead th {\n",
       "        text-align: right;\n",
       "    }\n",
       "</style>\n",
       "<table border=\"1\" class=\"dataframe\">\n",
       "  <thead>\n",
       "    <tr style=\"text-align: right;\">\n",
       "      <th></th>\n",
       "      <th>LIMIT_BAL</th>\n",
       "      <th>SEX</th>\n",
       "      <th>EDUCATION</th>\n",
       "      <th>MARRIAGE</th>\n",
       "      <th>AGE</th>\n",
       "      <th>PAY_0</th>\n",
       "      <th>PAY_2</th>\n",
       "      <th>PAY_3</th>\n",
       "      <th>PAY_4</th>\n",
       "      <th>PAY_5</th>\n",
       "      <th>...</th>\n",
       "      <th>BILL_AMT4</th>\n",
       "      <th>BILL_AMT5</th>\n",
       "      <th>BILL_AMT6</th>\n",
       "      <th>PAY_AMT1</th>\n",
       "      <th>PAY_AMT2</th>\n",
       "      <th>PAY_AMT3</th>\n",
       "      <th>PAY_AMT4</th>\n",
       "      <th>PAY_AMT5</th>\n",
       "      <th>PAY_AMT6</th>\n",
       "      <th>default payment next month</th>\n",
       "    </tr>\n",
       "  </thead>\n",
       "  <tbody>\n",
       "    <tr>\n",
       "      <td>0</td>\n",
       "      <td>False</td>\n",
       "      <td>False</td>\n",
       "      <td>False</td>\n",
       "      <td>False</td>\n",
       "      <td>False</td>\n",
       "      <td>False</td>\n",
       "      <td>False</td>\n",
       "      <td>False</td>\n",
       "      <td>False</td>\n",
       "      <td>False</td>\n",
       "      <td>...</td>\n",
       "      <td>False</td>\n",
       "      <td>False</td>\n",
       "      <td>False</td>\n",
       "      <td>False</td>\n",
       "      <td>False</td>\n",
       "      <td>False</td>\n",
       "      <td>False</td>\n",
       "      <td>False</td>\n",
       "      <td>False</td>\n",
       "      <td>False</td>\n",
       "    </tr>\n",
       "    <tr>\n",
       "      <td>1</td>\n",
       "      <td>False</td>\n",
       "      <td>False</td>\n",
       "      <td>False</td>\n",
       "      <td>False</td>\n",
       "      <td>False</td>\n",
       "      <td>False</td>\n",
       "      <td>False</td>\n",
       "      <td>False</td>\n",
       "      <td>False</td>\n",
       "      <td>False</td>\n",
       "      <td>...</td>\n",
       "      <td>False</td>\n",
       "      <td>False</td>\n",
       "      <td>False</td>\n",
       "      <td>False</td>\n",
       "      <td>False</td>\n",
       "      <td>False</td>\n",
       "      <td>False</td>\n",
       "      <td>False</td>\n",
       "      <td>False</td>\n",
       "      <td>False</td>\n",
       "    </tr>\n",
       "    <tr>\n",
       "      <td>2</td>\n",
       "      <td>False</td>\n",
       "      <td>False</td>\n",
       "      <td>False</td>\n",
       "      <td>False</td>\n",
       "      <td>False</td>\n",
       "      <td>False</td>\n",
       "      <td>False</td>\n",
       "      <td>False</td>\n",
       "      <td>False</td>\n",
       "      <td>False</td>\n",
       "      <td>...</td>\n",
       "      <td>False</td>\n",
       "      <td>False</td>\n",
       "      <td>False</td>\n",
       "      <td>False</td>\n",
       "      <td>False</td>\n",
       "      <td>False</td>\n",
       "      <td>False</td>\n",
       "      <td>False</td>\n",
       "      <td>False</td>\n",
       "      <td>False</td>\n",
       "    </tr>\n",
       "    <tr>\n",
       "      <td>3</td>\n",
       "      <td>False</td>\n",
       "      <td>False</td>\n",
       "      <td>False</td>\n",
       "      <td>False</td>\n",
       "      <td>False</td>\n",
       "      <td>False</td>\n",
       "      <td>False</td>\n",
       "      <td>False</td>\n",
       "      <td>False</td>\n",
       "      <td>False</td>\n",
       "      <td>...</td>\n",
       "      <td>False</td>\n",
       "      <td>False</td>\n",
       "      <td>False</td>\n",
       "      <td>False</td>\n",
       "      <td>False</td>\n",
       "      <td>False</td>\n",
       "      <td>False</td>\n",
       "      <td>False</td>\n",
       "      <td>False</td>\n",
       "      <td>False</td>\n",
       "    </tr>\n",
       "    <tr>\n",
       "      <td>4</td>\n",
       "      <td>False</td>\n",
       "      <td>False</td>\n",
       "      <td>False</td>\n",
       "      <td>False</td>\n",
       "      <td>False</td>\n",
       "      <td>False</td>\n",
       "      <td>False</td>\n",
       "      <td>False</td>\n",
       "      <td>False</td>\n",
       "      <td>False</td>\n",
       "      <td>...</td>\n",
       "      <td>False</td>\n",
       "      <td>False</td>\n",
       "      <td>False</td>\n",
       "      <td>False</td>\n",
       "      <td>False</td>\n",
       "      <td>False</td>\n",
       "      <td>False</td>\n",
       "      <td>False</td>\n",
       "      <td>False</td>\n",
       "      <td>False</td>\n",
       "    </tr>\n",
       "    <tr>\n",
       "      <td>...</td>\n",
       "      <td>...</td>\n",
       "      <td>...</td>\n",
       "      <td>...</td>\n",
       "      <td>...</td>\n",
       "      <td>...</td>\n",
       "      <td>...</td>\n",
       "      <td>...</td>\n",
       "      <td>...</td>\n",
       "      <td>...</td>\n",
       "      <td>...</td>\n",
       "      <td>...</td>\n",
       "      <td>...</td>\n",
       "      <td>...</td>\n",
       "      <td>...</td>\n",
       "      <td>...</td>\n",
       "      <td>...</td>\n",
       "      <td>...</td>\n",
       "      <td>...</td>\n",
       "      <td>...</td>\n",
       "      <td>...</td>\n",
       "      <td>...</td>\n",
       "    </tr>\n",
       "    <tr>\n",
       "      <td>29995</td>\n",
       "      <td>False</td>\n",
       "      <td>False</td>\n",
       "      <td>False</td>\n",
       "      <td>False</td>\n",
       "      <td>False</td>\n",
       "      <td>False</td>\n",
       "      <td>False</td>\n",
       "      <td>False</td>\n",
       "      <td>False</td>\n",
       "      <td>False</td>\n",
       "      <td>...</td>\n",
       "      <td>False</td>\n",
       "      <td>False</td>\n",
       "      <td>False</td>\n",
       "      <td>False</td>\n",
       "      <td>False</td>\n",
       "      <td>False</td>\n",
       "      <td>False</td>\n",
       "      <td>False</td>\n",
       "      <td>False</td>\n",
       "      <td>False</td>\n",
       "    </tr>\n",
       "    <tr>\n",
       "      <td>29996</td>\n",
       "      <td>False</td>\n",
       "      <td>False</td>\n",
       "      <td>False</td>\n",
       "      <td>False</td>\n",
       "      <td>False</td>\n",
       "      <td>False</td>\n",
       "      <td>False</td>\n",
       "      <td>False</td>\n",
       "      <td>False</td>\n",
       "      <td>False</td>\n",
       "      <td>...</td>\n",
       "      <td>False</td>\n",
       "      <td>False</td>\n",
       "      <td>False</td>\n",
       "      <td>False</td>\n",
       "      <td>False</td>\n",
       "      <td>False</td>\n",
       "      <td>False</td>\n",
       "      <td>False</td>\n",
       "      <td>False</td>\n",
       "      <td>False</td>\n",
       "    </tr>\n",
       "    <tr>\n",
       "      <td>29997</td>\n",
       "      <td>False</td>\n",
       "      <td>False</td>\n",
       "      <td>False</td>\n",
       "      <td>False</td>\n",
       "      <td>False</td>\n",
       "      <td>False</td>\n",
       "      <td>False</td>\n",
       "      <td>False</td>\n",
       "      <td>False</td>\n",
       "      <td>False</td>\n",
       "      <td>...</td>\n",
       "      <td>False</td>\n",
       "      <td>False</td>\n",
       "      <td>False</td>\n",
       "      <td>False</td>\n",
       "      <td>False</td>\n",
       "      <td>False</td>\n",
       "      <td>False</td>\n",
       "      <td>False</td>\n",
       "      <td>False</td>\n",
       "      <td>False</td>\n",
       "    </tr>\n",
       "    <tr>\n",
       "      <td>29998</td>\n",
       "      <td>False</td>\n",
       "      <td>False</td>\n",
       "      <td>False</td>\n",
       "      <td>False</td>\n",
       "      <td>False</td>\n",
       "      <td>False</td>\n",
       "      <td>False</td>\n",
       "      <td>False</td>\n",
       "      <td>False</td>\n",
       "      <td>False</td>\n",
       "      <td>...</td>\n",
       "      <td>False</td>\n",
       "      <td>False</td>\n",
       "      <td>False</td>\n",
       "      <td>False</td>\n",
       "      <td>False</td>\n",
       "      <td>False</td>\n",
       "      <td>False</td>\n",
       "      <td>False</td>\n",
       "      <td>False</td>\n",
       "      <td>False</td>\n",
       "    </tr>\n",
       "    <tr>\n",
       "      <td>29999</td>\n",
       "      <td>False</td>\n",
       "      <td>False</td>\n",
       "      <td>False</td>\n",
       "      <td>False</td>\n",
       "      <td>False</td>\n",
       "      <td>False</td>\n",
       "      <td>False</td>\n",
       "      <td>False</td>\n",
       "      <td>False</td>\n",
       "      <td>False</td>\n",
       "      <td>...</td>\n",
       "      <td>False</td>\n",
       "      <td>False</td>\n",
       "      <td>False</td>\n",
       "      <td>False</td>\n",
       "      <td>False</td>\n",
       "      <td>False</td>\n",
       "      <td>False</td>\n",
       "      <td>False</td>\n",
       "      <td>False</td>\n",
       "      <td>False</td>\n",
       "    </tr>\n",
       "  </tbody>\n",
       "</table>\n",
       "<p>30000 rows × 24 columns</p>\n",
       "</div>"
      ],
      "text/plain": [
       "       LIMIT_BAL    SEX  EDUCATION  MARRIAGE    AGE  PAY_0  PAY_2  PAY_3  \\\n",
       "0          False  False      False     False  False  False  False  False   \n",
       "1          False  False      False     False  False  False  False  False   \n",
       "2          False  False      False     False  False  False  False  False   \n",
       "3          False  False      False     False  False  False  False  False   \n",
       "4          False  False      False     False  False  False  False  False   \n",
       "...          ...    ...        ...       ...    ...    ...    ...    ...   \n",
       "29995      False  False      False     False  False  False  False  False   \n",
       "29996      False  False      False     False  False  False  False  False   \n",
       "29997      False  False      False     False  False  False  False  False   \n",
       "29998      False  False      False     False  False  False  False  False   \n",
       "29999      False  False      False     False  False  False  False  False   \n",
       "\n",
       "       PAY_4  PAY_5  ...  BILL_AMT4  BILL_AMT5  BILL_AMT6  PAY_AMT1  PAY_AMT2  \\\n",
       "0      False  False  ...      False      False      False     False     False   \n",
       "1      False  False  ...      False      False      False     False     False   \n",
       "2      False  False  ...      False      False      False     False     False   \n",
       "3      False  False  ...      False      False      False     False     False   \n",
       "4      False  False  ...      False      False      False     False     False   \n",
       "...      ...    ...  ...        ...        ...        ...       ...       ...   \n",
       "29995  False  False  ...      False      False      False     False     False   \n",
       "29996  False  False  ...      False      False      False     False     False   \n",
       "29997  False  False  ...      False      False      False     False     False   \n",
       "29998  False  False  ...      False      False      False     False     False   \n",
       "29999  False  False  ...      False      False      False     False     False   \n",
       "\n",
       "       PAY_AMT3  PAY_AMT4  PAY_AMT5  PAY_AMT6  default payment next month  \n",
       "0         False     False     False     False                       False  \n",
       "1         False     False     False     False                       False  \n",
       "2         False     False     False     False                       False  \n",
       "3         False     False     False     False                       False  \n",
       "4         False     False     False     False                       False  \n",
       "...         ...       ...       ...       ...                         ...  \n",
       "29995     False     False     False     False                       False  \n",
       "29996     False     False     False     False                       False  \n",
       "29997     False     False     False     False                       False  \n",
       "29998     False     False     False     False                       False  \n",
       "29999     False     False     False     False                       False  \n",
       "\n",
       "[30000 rows x 24 columns]"
      ]
     },
     "execution_count": 5,
     "metadata": {},
     "output_type": "execute_result"
    }
   ],
   "source": [
    "# Se verifica si no hay datos en alguna de las celdas\n",
    "pd.isnull(credit2)"
   ]
  },
  {
   "cell_type": "code",
   "execution_count": 6,
   "metadata": {},
   "outputs": [
    {
     "name": "stdout",
     "output_type": "stream",
     "text": [
      "<class 'pandas.core.frame.DataFrame'>\n",
      "Int64Index: 30000 entries, 0 to 29999\n",
      "Data columns (total 24 columns):\n",
      "LIMIT_BAL                     30000 non-null int64\n",
      "SEX                           30000 non-null int64\n",
      "EDUCATION                     30000 non-null int64\n",
      "MARRIAGE                      30000 non-null int64\n",
      "AGE                           30000 non-null int64\n",
      "PAY_0                         30000 non-null int64\n",
      "PAY_2                         30000 non-null int64\n",
      "PAY_3                         30000 non-null int64\n",
      "PAY_4                         30000 non-null int64\n",
      "PAY_5                         30000 non-null int64\n",
      "PAY_6                         30000 non-null int64\n",
      "BILL_AMT1                     30000 non-null int64\n",
      "BILL_AMT2                     30000 non-null int64\n",
      "BILL_AMT3                     30000 non-null int64\n",
      "BILL_AMT4                     30000 non-null int64\n",
      "BILL_AMT5                     30000 non-null int64\n",
      "BILL_AMT6                     30000 non-null int64\n",
      "PAY_AMT1                      30000 non-null int64\n",
      "PAY_AMT2                      30000 non-null int64\n",
      "PAY_AMT3                      30000 non-null int64\n",
      "PAY_AMT4                      30000 non-null int64\n",
      "PAY_AMT5                      30000 non-null int64\n",
      "PAY_AMT6                      30000 non-null int64\n",
      "default payment next month    30000 non-null int64\n",
      "dtypes: int64(24)\n",
      "memory usage: 5.7 MB\n"
     ]
    }
   ],
   "source": [
    "# En caso de ser necesario, se aplica la función para eliminar las filas que le falta información\n",
    "credit3 = credit2.dropna()\n",
    "# y se verifican los resultados\n",
    "credit3.info()"
   ]
  },
  {
   "cell_type": "code",
   "execution_count": 7,
   "metadata": {},
   "outputs": [],
   "source": [
    "# Se graba el nuevo Data Set\n",
    "credit3.to_csv('Credit_Card_Clients.csv')"
   ]
  },
  {
   "cell_type": "markdown",
   "metadata": {},
   "source": [
    "Estimación de la Covarianza en el Data Set"
   ]
  },
  {
   "cell_type": "code",
   "execution_count": 8,
   "metadata": {},
   "outputs": [
    {
     "name": "stdout",
     "output_type": "stream",
     "text": [
      "***** Matriz de Covarianza Data Set original *****\n",
      "                                      ID     LIMIT_BAL          SEX  \\\n",
      "ID                          7.500250e+07  2.941664e+07    78.356379   \n",
      "LIMIT_BAL                   2.941664e+07  1.683446e+10  1571.050630   \n",
      "SEX                         7.835638e+01  1.571051e+03     0.239247   \n",
      "EDUCATION                   2.681543e+02 -2.247403e+04     0.005502   \n",
      "MARRIAGE                   -1.314525e+02 -7.323670e+03    -0.008014   \n",
      "AGE                         1.491057e+03  1.730767e+05    -0.409726   \n",
      "PAY_0                      -2.975726e+02 -3.954593e+04    -0.031685   \n",
      "PAY_2                      -1.162770e+02 -4.603765e+04    -0.041442   \n",
      "PAY_3                      -1.916922e+02 -4.443225e+04    -0.038694   \n",
      "PAY_4                      -2.769132e+01 -4.057181e+04    -0.034411   \n",
      "PAY_5                      -2.178600e+02 -3.667056e+04    -0.030521   \n",
      "PAY_6                      -2.018774e+02 -3.509308e+04    -0.024754   \n",
      "BILL_AMT1                   1.236447e+07  2.727020e+09 -1211.694332   \n",
      "BILL_AMT2                   1.108392e+07  2.570130e+09 -1085.595467   \n",
      "BILL_AMT3                   1.462688e+07  2.548533e+09  -833.207432   \n",
      "BILL_AMT4                   2.248126e+07  2.453926e+09  -688.489572   \n",
      "BILL_AMT5                   8.795803e+06  2.331481e+09  -505.694333   \n",
      "BILL_AMT6                   8.628506e+06  2.243837e+09  -487.430160   \n",
      "PAY_AMT1                    1.397501e+06  4.195711e+08    -1.964266   \n",
      "PAY_AMT2                    1.677383e+06  5.333504e+08   -15.675500   \n",
      "PAY_AMT3                    5.969803e+06  4.801180e+08   -74.034812   \n",
      "PAY_AMT4                    1.057334e+06  4.131202e+08   -17.080110   \n",
      "PAY_AMT5                    8.629502e+04  4.305657e+08   -12.458809   \n",
      "PAY_AMT6                    4.618460e+05  5.065153e+08   -24.051885   \n",
      "default payment next month -5.015171e+01 -8.267552e+03    -0.008113   \n",
      "\n",
      "                               EDUCATION     MARRIAGE            AGE  \\\n",
      "ID                            268.154338  -131.452515    1491.057019   \n",
      "LIMIT_BAL                  -22474.028945 -7323.669658  173076.722569   \n",
      "SEX                             0.005502    -0.008014      -0.409726   \n",
      "EDUCATION                       0.624651    -0.059184       1.275380   \n",
      "MARRIAGE                       -0.059184     0.272452      -1.992764   \n",
      "AGE                             1.275380    -1.992764      84.969755   \n",
      "PAY_0                           0.093584     0.011683      -0.408639   \n",
      "PAY_2                           0.115025     0.015122      -0.553408   \n",
      "PAY_3                           0.107861     0.020421      -0.585263   \n",
      "PAY_4                           0.100528     0.020213      -0.535851   \n",
      "PAY_5                           0.087340     0.021074      -0.562245   \n",
      "PAY_6                           0.074816     0.020616      -0.517022   \n",
      "BILL_AMT1                    1372.377644  -902.154685   38172.933546   \n",
      "BILL_AMT2                    1054.657595  -802.517866   35613.657962   \n",
      "BILL_AMT3                     712.664124  -901.679085   34334.251320   \n",
      "BILL_AMT4                     -22.948827  -783.881599   30453.108180   \n",
      "BILL_AMT5                    -363.577664  -805.840875   27654.067800   \n",
      "BILL_AMT6                    -428.274232  -659.223347   26137.648547   \n",
      "PAY_AMT1                     -490.330155   -51.691615    3992.041735   \n",
      "PAY_AMT2                     -547.005021   -97.327974    4626.861549   \n",
      "PAY_AMT3                     -555.834305   -32.546082    4746.824393   \n",
      "PAY_AMT4                     -473.206951  -103.518204    3087.324192   \n",
      "PAY_AMT5                     -487.335947    -9.607709    3218.052172   \n",
      "PAY_AMT6                     -522.673379   -61.623271    3191.903901   \n",
      "default payment next month      0.009187    -0.005273       0.053143   \n",
      "\n",
      "                                   PAY_0         PAY_2         PAY_3  \\\n",
      "ID                           -297.572636   -116.276959   -191.692156   \n",
      "LIMIT_BAL                  -39545.930009 -46037.648360 -44432.253315   \n",
      "SEX                            -0.031685     -0.041442     -0.038694   \n",
      "EDUCATION                       0.093584      0.115025      0.107861   \n",
      "MARRIAGE                        0.011683      0.015122      0.020421   \n",
      "AGE                            -0.408639     -0.553408     -0.585263   \n",
      "PAY_0                           1.262930      0.904330      0.772384   \n",
      "PAY_2                           0.904330      1.433254      1.098371   \n",
      "PAY_3                           0.772384      1.098371      1.432492   \n",
      "PAY_4                           0.707972      0.926680      1.087761   \n",
      "PAY_5                           0.648743      0.844886      0.931455   \n",
      "PAY_6                           0.613292      0.792320      0.870815   \n",
      "BILL_AMT1                   15480.304170  20706.614217  18373.210469   \n",
      "BILL_AMT2                   15185.916919  20045.829482  20214.071495   \n",
      "BILL_AMT3                   14011.556537  18609.510991  18882.491544   \n",
      "BILL_AMT4                   12950.248389  17116.298983  17494.100555   \n",
      "BILL_AMT5                   12341.668685  16110.952468  16382.947539   \n",
      "BILL_AMT6                   11844.759724  15642.875812  15847.089648   \n",
      "PAY_AMT1                    -1475.495089  -1600.240756     25.668468   \n",
      "PAY_AMT2                    -1815.138407  -1627.192336  -1841.952825   \n",
      "PAY_AMT3                    -1396.168258  -1178.331282  -1123.428782   \n",
      "PAY_AMT4                    -1126.847945   -878.843879   -863.762183   \n",
      "PAY_AMT5                     -999.107730   -678.468530   -655.796002   \n",
      "PAY_AMT6                    -1172.193614   -776.835035   -763.026041   \n",
      "default payment next month      0.151499      0.130960      0.116867   \n",
      "\n",
      "                                   PAY_4  ...     BILL_AMT4     BILL_AMT5  \\\n",
      "ID                            -27.691323  ...  2.248126e+07  8.795803e+06   \n",
      "LIMIT_BAL                  -40571.811859  ...  2.453926e+09  2.331481e+09   \n",
      "SEX                            -0.034411  ... -6.884896e+02 -5.056943e+02   \n",
      "EDUCATION                       0.100528  ... -2.294883e+01 -3.635777e+02   \n",
      "MARRIAGE                        0.020213  ... -7.838816e+02 -8.058409e+02   \n",
      "AGE                            -0.535851  ...  3.045311e+04  2.765407e+04   \n",
      "PAY_0                           0.707972  ...  1.295025e+04  1.234167e+04   \n",
      "PAY_2                           0.926680  ...  1.711630e+04  1.611095e+04   \n",
      "PAY_3                           1.087761  ...  1.749410e+04  1.638295e+04   \n",
      "PAY_4                           1.366885  ...  1.849642e+04  1.726555e+04   \n",
      "PAY_5                           1.086161  ...  1.982293e+04  1.858659e+04   \n",
      "PAY_6                           0.963263  ...  1.970555e+04  2.033812e+04   \n",
      "BILL_AMT1                   17460.198259  ...  4.075286e+09  3.714795e+09   \n",
      "BILL_AMT2                   18790.627741  ...  4.086508e+09  3.720401e+09   \n",
      "BILL_AMT3                   19862.999426  ...  4.122238e+09  3.726780e+09   \n",
      "BILL_AMT4                   18496.423186  ...  4.138716e+09  3.677105e+09   \n",
      "BILL_AMT5                   17265.551898  ...  3.677105e+09  3.696294e+09   \n",
      "BILL_AMT6                   16651.586314  ...  3.451762e+09  3.425914e+09   \n",
      "PAY_AMT1                     -181.295613  ...  2.482888e+08  2.185501e+08   \n",
      "PAY_AMT2                      -52.358166  ...  3.076686e+08  2.538936e+08   \n",
      "PAY_AMT3                    -1425.205189  ...  3.398374e+08  2.700805e+08   \n",
      "PAY_AMT4                     -796.035739  ...  1.312133e+08  2.791830e+08   \n",
      "PAY_AMT5                     -599.991629  ...  1.576892e+08  1.315051e+08   \n",
      "PAY_AMT6                     -552.137338  ...  2.031590e+08  1.774537e+08   \n",
      "default payment next month      0.105115  ... -2.711999e+02 -1.705974e+02   \n",
      "\n",
      "                               BILL_AMT6      PAY_AMT1      PAY_AMT2  \\\n",
      "ID                          8.628506e+06  1.397501e+06  1.677383e+06   \n",
      "LIMIT_BAL                   2.243837e+09  4.195711e+08  5.333504e+08   \n",
      "SEX                        -4.874302e+02 -1.964266e+00 -1.567550e+01   \n",
      "EDUCATION                  -4.282742e+02 -4.903302e+02 -5.470050e+02   \n",
      "MARRIAGE                   -6.592233e+02 -5.169161e+01 -9.732797e+01   \n",
      "AGE                         2.613765e+04  3.992042e+03  4.626862e+03   \n",
      "PAY_0                       1.184476e+04 -1.475495e+03 -1.815138e+03   \n",
      "PAY_2                       1.564288e+04 -1.600241e+03 -1.627192e+03   \n",
      "PAY_3                       1.584709e+04  2.566847e+01 -1.841953e+03   \n",
      "PAY_4                       1.665159e+04 -1.812956e+02 -5.235817e+01   \n",
      "PAY_5                       1.771569e+04 -1.142817e+02 -8.332449e+01   \n",
      "PAY_6                       1.952488e+04 -2.850067e+01 -1.383995e+02   \n",
      "BILL_AMT1                   3.519876e+09  1.710894e+08  1.685692e+08   \n",
      "BILL_AMT2                   3.524868e+09  3.305146e+08  1.653859e+08   \n",
      "BILL_AMT3                   3.524247e+09  2.806565e+08  5.064226e+08   \n",
      "BILL_AMT4                   3.451762e+09  2.482888e+08  3.076686e+08   \n",
      "BILL_AMT5                   3.425914e+09  2.185501e+08  2.538936e+08   \n",
      "BILL_AMT6                   3.546692e+09  1.972478e+08  2.369244e+08   \n",
      "PAY_AMT1                    1.972478e+08  2.743423e+08  1.089849e+08   \n",
      "PAY_AMT2                    2.369244e+08  1.089849e+08  5.308817e+08   \n",
      "PAY_AMT3                    2.451233e+08  7.354626e+07  9.929841e+07   \n",
      "PAY_AMT4                    2.334670e+08  5.178189e+07  6.501168e+07   \n",
      "PAY_AMT5                    2.799982e+08  3.756893e+07  6.368414e+07   \n",
      "PAY_AMT6                    1.222761e+08  5.469033e+07  6.456816e+07   \n",
      "default payment next month -1.327963e+02 -5.013746e+02 -5.602107e+02   \n",
      "\n",
      "                                PAY_AMT3      PAY_AMT4      PAY_AMT5  \\\n",
      "ID                          5.969803e+06  1.057334e+06  8.629502e+04   \n",
      "LIMIT_BAL                   4.801180e+08  4.131202e+08  4.305657e+08   \n",
      "SEX                        -7.403481e+01 -1.708011e+01 -1.245881e+01   \n",
      "EDUCATION                  -5.558343e+02 -4.732070e+02 -4.873359e+02   \n",
      "MARRIAGE                   -3.254608e+01 -1.035182e+02 -9.607709e+00   \n",
      "AGE                         4.746824e+03  3.087324e+03  3.218052e+03   \n",
      "PAY_0                      -1.396168e+03 -1.126848e+03 -9.991077e+02   \n",
      "PAY_2                      -1.178331e+03 -8.788439e+02 -6.784685e+02   \n",
      "PAY_3                      -1.123429e+03 -8.637622e+02 -6.557960e+02   \n",
      "PAY_4                      -1.425205e+03 -7.960357e+02 -5.999916e+02   \n",
      "PAY_5                       1.808121e+02 -1.034962e+03 -5.771610e+02   \n",
      "PAY_6                       1.181210e+02  3.426237e+02 -8.158327e+02   \n",
      "BILL_AMT1                   2.034048e+08  1.826164e+08  1.879091e+08   \n",
      "BILL_AMT2                   1.888731e+08  1.643518e+08  1.717652e+08   \n",
      "BILL_AMT3                   1.587478e+08  1.558003e+08  1.904126e+08   \n",
      "BILL_AMT4                   3.398374e+08  1.312133e+08  1.576892e+08   \n",
      "BILL_AMT5                   2.700805e+08  2.791830e+08  1.315051e+08   \n",
      "BILL_AMT6                   2.451233e+08  2.334670e+08  2.799982e+08   \n",
      "PAY_AMT1                    7.354626e+07  5.178189e+07  3.756893e+07   \n",
      "PAY_AMT2                    9.929841e+07  6.501168e+07  6.368414e+07   \n",
      "PAY_AMT3                    3.100051e+08  5.966970e+07  4.282921e+07   \n",
      "PAY_AMT4                    5.966970e+07  2.454286e+08  3.634098e+07   \n",
      "PAY_AMT5                    4.282921e+07  3.634098e+07  2.334266e+08   \n",
      "PAY_AMT6                    5.093879e+07  4.395747e+07  4.207110e+07   \n",
      "default payment next month -4.110763e+02 -3.695159e+02 -3.495625e+02   \n",
      "\n",
      "                                PAY_AMT6  default payment next month  \n",
      "ID                          4.618460e+05                  -50.151705  \n",
      "LIMIT_BAL                   5.065153e+08                -8267.551759  \n",
      "SEX                        -2.405188e+01                   -0.008113  \n",
      "EDUCATION                  -5.226734e+02                    0.009187  \n",
      "MARRIAGE                   -6.162327e+01                   -0.005273  \n",
      "AGE                         3.191904e+03                    0.053143  \n",
      "PAY_0                      -1.172194e+03                    0.151499  \n",
      "PAY_2                      -7.768350e+02                    0.130960  \n",
      "PAY_3                      -7.630260e+02                    0.116867  \n",
      "PAY_4                      -5.521373e+02                    0.105115  \n",
      "PAY_5                      -4.638926e+02                    0.096020  \n",
      "PAY_6                      -5.172163e+02                    0.089194  \n",
      "BILL_AMT1                   2.347681e+08                 -600.394108  \n",
      "BILL_AMT2                   2.204845e+08                 -419.289137  \n",
      "BILL_AMT3                   2.247817e+08                 -405.153680  \n",
      "BILL_AMT4                   2.031590e+08                 -271.199885  \n",
      "BILL_AMT5                   1.774537e+08                 -170.597447  \n",
      "BILL_AMT6                   1.222761e+08                 -132.796294  \n",
      "PAY_AMT1                    5.469033e+07                 -501.374552  \n",
      "PAY_AMT2                    6.456816e+07                 -560.210740  \n",
      "PAY_AMT3                    5.093879e+07                 -411.076284  \n",
      "PAY_AMT4                    4.395747e+07                 -369.515887  \n",
      "PAY_AMT5                    4.207110e+07                 -349.562530  \n",
      "PAY_AMT6                    3.160383e+08                 -392.426415  \n",
      "default payment next month -3.924264e+02                    0.172276  \n",
      "\n",
      "[25 rows x 25 columns]\n"
     ]
    }
   ],
   "source": [
    "# Cálculo de la covarianza para el Data Set original\n",
    "covMat = credit.cov()\n",
    "print('***** Matriz de Covarianza Data Set original *****')\n",
    "print(covMat)"
   ]
  },
  {
   "cell_type": "code",
   "execution_count": 9,
   "metadata": {},
   "outputs": [
    {
     "name": "stdout",
     "output_type": "stream",
     "text": [
      "***** Matriz de Covarianza Data Set modificado *****\n",
      "                               LIMIT_BAL          SEX     EDUCATION  \\\n",
      "LIMIT_BAL                   1.683446e+10  1571.050630 -22474.028945   \n",
      "SEX                         1.571051e+03     0.239247      0.005502   \n",
      "EDUCATION                  -2.247403e+04     0.005502      0.624651   \n",
      "MARRIAGE                   -7.323670e+03    -0.008014     -0.059184   \n",
      "AGE                         1.730767e+05    -0.409726      1.275380   \n",
      "PAY_0                      -3.954593e+04    -0.031685      0.093584   \n",
      "PAY_2                      -4.603765e+04    -0.041442      0.115025   \n",
      "PAY_3                      -4.443225e+04    -0.038694      0.107861   \n",
      "PAY_4                      -4.057181e+04    -0.034411      0.100528   \n",
      "PAY_5                      -3.667056e+04    -0.030521      0.087340   \n",
      "PAY_6                      -3.509308e+04    -0.024754      0.074816   \n",
      "BILL_AMT1                   2.727020e+09 -1211.694332   1372.377644   \n",
      "BILL_AMT2                   2.570130e+09 -1085.595467   1054.657595   \n",
      "BILL_AMT3                   2.548533e+09  -833.207432    712.664124   \n",
      "BILL_AMT4                   2.453926e+09  -688.489572    -22.948827   \n",
      "BILL_AMT5                   2.331481e+09  -505.694333   -363.577664   \n",
      "BILL_AMT6                   2.243837e+09  -487.430160   -428.274232   \n",
      "PAY_AMT1                    4.195711e+08    -1.964266   -490.330155   \n",
      "PAY_AMT2                    5.333504e+08   -15.675500   -547.005021   \n",
      "PAY_AMT3                    4.801180e+08   -74.034812   -555.834305   \n",
      "PAY_AMT4                    4.131202e+08   -17.080110   -473.206951   \n",
      "PAY_AMT5                    4.305657e+08   -12.458809   -487.335947   \n",
      "PAY_AMT6                    5.065153e+08   -24.051885   -522.673379   \n",
      "default payment next month -8.267552e+03    -0.008113      0.009187   \n",
      "\n",
      "                               MARRIAGE            AGE         PAY_0  \\\n",
      "LIMIT_BAL                  -7323.669658  173076.722569 -39545.930009   \n",
      "SEX                           -0.008014      -0.409726     -0.031685   \n",
      "EDUCATION                     -0.059184       1.275380      0.093584   \n",
      "MARRIAGE                       0.272452      -1.992764      0.011683   \n",
      "AGE                           -1.992764      84.969755     -0.408639   \n",
      "PAY_0                          0.011683      -0.408639      1.262930   \n",
      "PAY_2                          0.015122      -0.553408      0.904330   \n",
      "PAY_3                          0.020421      -0.585263      0.772384   \n",
      "PAY_4                          0.020213      -0.535851      0.707972   \n",
      "PAY_5                          0.021074      -0.562245      0.648743   \n",
      "PAY_6                          0.020616      -0.517022      0.613292   \n",
      "BILL_AMT1                   -902.154685   38172.933546  15480.304170   \n",
      "BILL_AMT2                   -802.517866   35613.657962  15185.916919   \n",
      "BILL_AMT3                   -901.679085   34334.251320  14011.556537   \n",
      "BILL_AMT4                   -783.881599   30453.108180  12950.248389   \n",
      "BILL_AMT5                   -805.840875   27654.067800  12341.668685   \n",
      "BILL_AMT6                   -659.223347   26137.648547  11844.759724   \n",
      "PAY_AMT1                     -51.691615    3992.041735  -1475.495089   \n",
      "PAY_AMT2                     -97.327974    4626.861549  -1815.138407   \n",
      "PAY_AMT3                     -32.546082    4746.824393  -1396.168258   \n",
      "PAY_AMT4                    -103.518204    3087.324192  -1126.847945   \n",
      "PAY_AMT5                      -9.607709    3218.052172   -999.107730   \n",
      "PAY_AMT6                     -61.623271    3191.903901  -1172.193614   \n",
      "default payment next month    -0.005273       0.053143      0.151499   \n",
      "\n",
      "                                   PAY_2         PAY_3         PAY_4  \\\n",
      "LIMIT_BAL                  -46037.648360 -44432.253315 -40571.811859   \n",
      "SEX                            -0.041442     -0.038694     -0.034411   \n",
      "EDUCATION                       0.115025      0.107861      0.100528   \n",
      "MARRIAGE                        0.015122      0.020421      0.020213   \n",
      "AGE                            -0.553408     -0.585263     -0.535851   \n",
      "PAY_0                           0.904330      0.772384      0.707972   \n",
      "PAY_2                           1.433254      1.098371      0.926680   \n",
      "PAY_3                           1.098371      1.432492      1.087761   \n",
      "PAY_4                           0.926680      1.087761      1.366885   \n",
      "PAY_5                           0.844886      0.931455      1.086161   \n",
      "PAY_6                           0.792320      0.870815      0.963263   \n",
      "BILL_AMT1                   20706.614217  18373.210469  17460.198259   \n",
      "BILL_AMT2                   20045.829482  20214.071495  18790.627741   \n",
      "BILL_AMT3                   18609.510991  18882.491544  19862.999426   \n",
      "BILL_AMT4                   17116.298983  17494.100555  18496.423186   \n",
      "BILL_AMT5                   16110.952468  16382.947539  17265.551898   \n",
      "BILL_AMT6                   15642.875812  15847.089648  16651.586314   \n",
      "PAY_AMT1                    -1600.240756     25.668468   -181.295613   \n",
      "PAY_AMT2                    -1627.192336  -1841.952825    -52.358166   \n",
      "PAY_AMT3                    -1178.331282  -1123.428782  -1425.205189   \n",
      "PAY_AMT4                     -878.843879   -863.762183   -796.035739   \n",
      "PAY_AMT5                     -678.468530   -655.796002   -599.991629   \n",
      "PAY_AMT6                     -776.835035   -763.026041   -552.137338   \n",
      "default payment next month      0.130960      0.116867      0.105115   \n",
      "\n",
      "                                   PAY_5  ...     BILL_AMT4     BILL_AMT5  \\\n",
      "LIMIT_BAL                  -36670.562325  ...  2.453926e+09  2.331481e+09   \n",
      "SEX                            -0.030521  ... -6.884896e+02 -5.056943e+02   \n",
      "EDUCATION                       0.087340  ... -2.294883e+01 -3.635777e+02   \n",
      "MARRIAGE                        0.021074  ... -7.838816e+02 -8.058409e+02   \n",
      "AGE                            -0.562245  ...  3.045311e+04  2.765407e+04   \n",
      "PAY_0                           0.648743  ...  1.295025e+04  1.234167e+04   \n",
      "PAY_2                           0.844886  ...  1.711630e+04  1.611095e+04   \n",
      "PAY_3                           0.931455  ...  1.749410e+04  1.638295e+04   \n",
      "PAY_4                           1.086161  ...  1.849642e+04  1.726555e+04   \n",
      "PAY_5                           1.284114  ...  1.982293e+04  1.858659e+04   \n",
      "PAY_6                           1.064545  ...  1.970555e+04  2.033812e+04   \n",
      "BILL_AMT1                   17246.377531  ...  4.075286e+09  3.714795e+09   \n",
      "BILL_AMT2                   18301.285286  ...  4.086508e+09  3.720401e+09   \n",
      "BILL_AMT3                   19122.663330  ...  4.122238e+09  3.726780e+09   \n",
      "BILL_AMT4                   19822.925512  ...  4.138716e+09  3.677105e+09   \n",
      "BILL_AMT5                   18586.590324  ...  3.677105e+09  3.696294e+09   \n",
      "BILL_AMT6                   17715.690075  ...  3.451762e+09  3.425914e+09   \n",
      "PAY_AMT1                     -114.281714  ...  2.482888e+08  2.185501e+08   \n",
      "PAY_AMT2                      -83.324487  ...  3.076686e+08  2.538936e+08   \n",
      "PAY_AMT3                      180.812142  ...  3.398374e+08  2.700805e+08   \n",
      "PAY_AMT4                    -1034.961970  ...  1.312133e+08  2.791830e+08   \n",
      "PAY_AMT5                     -577.161017  ...  1.576892e+08  1.315051e+08   \n",
      "PAY_AMT6                     -463.892613  ...  2.031590e+08  1.774537e+08   \n",
      "default payment next month      0.096020  ... -2.711999e+02 -1.705974e+02   \n",
      "\n",
      "                               BILL_AMT6      PAY_AMT1      PAY_AMT2  \\\n",
      "LIMIT_BAL                   2.243837e+09  4.195711e+08  5.333504e+08   \n",
      "SEX                        -4.874302e+02 -1.964266e+00 -1.567550e+01   \n",
      "EDUCATION                  -4.282742e+02 -4.903302e+02 -5.470050e+02   \n",
      "MARRIAGE                   -6.592233e+02 -5.169161e+01 -9.732797e+01   \n",
      "AGE                         2.613765e+04  3.992042e+03  4.626862e+03   \n",
      "PAY_0                       1.184476e+04 -1.475495e+03 -1.815138e+03   \n",
      "PAY_2                       1.564288e+04 -1.600241e+03 -1.627192e+03   \n",
      "PAY_3                       1.584709e+04  2.566847e+01 -1.841953e+03   \n",
      "PAY_4                       1.665159e+04 -1.812956e+02 -5.235817e+01   \n",
      "PAY_5                       1.771569e+04 -1.142817e+02 -8.332449e+01   \n",
      "PAY_6                       1.952488e+04 -2.850067e+01 -1.383995e+02   \n",
      "BILL_AMT1                   3.519876e+09  1.710894e+08  1.685692e+08   \n",
      "BILL_AMT2                   3.524868e+09  3.305146e+08  1.653859e+08   \n",
      "BILL_AMT3                   3.524247e+09  2.806565e+08  5.064226e+08   \n",
      "BILL_AMT4                   3.451762e+09  2.482888e+08  3.076686e+08   \n",
      "BILL_AMT5                   3.425914e+09  2.185501e+08  2.538936e+08   \n",
      "BILL_AMT6                   3.546692e+09  1.972478e+08  2.369244e+08   \n",
      "PAY_AMT1                    1.972478e+08  2.743423e+08  1.089849e+08   \n",
      "PAY_AMT2                    2.369244e+08  1.089849e+08  5.308817e+08   \n",
      "PAY_AMT3                    2.451233e+08  7.354626e+07  9.929841e+07   \n",
      "PAY_AMT4                    2.334670e+08  5.178189e+07  6.501168e+07   \n",
      "PAY_AMT5                    2.799982e+08  3.756893e+07  6.368414e+07   \n",
      "PAY_AMT6                    1.222761e+08  5.469033e+07  6.456816e+07   \n",
      "default payment next month -1.327963e+02 -5.013746e+02 -5.602107e+02   \n",
      "\n",
      "                                PAY_AMT3      PAY_AMT4      PAY_AMT5  \\\n",
      "LIMIT_BAL                   4.801180e+08  4.131202e+08  4.305657e+08   \n",
      "SEX                        -7.403481e+01 -1.708011e+01 -1.245881e+01   \n",
      "EDUCATION                  -5.558343e+02 -4.732070e+02 -4.873359e+02   \n",
      "MARRIAGE                   -3.254608e+01 -1.035182e+02 -9.607709e+00   \n",
      "AGE                         4.746824e+03  3.087324e+03  3.218052e+03   \n",
      "PAY_0                      -1.396168e+03 -1.126848e+03 -9.991077e+02   \n",
      "PAY_2                      -1.178331e+03 -8.788439e+02 -6.784685e+02   \n",
      "PAY_3                      -1.123429e+03 -8.637622e+02 -6.557960e+02   \n",
      "PAY_4                      -1.425205e+03 -7.960357e+02 -5.999916e+02   \n",
      "PAY_5                       1.808121e+02 -1.034962e+03 -5.771610e+02   \n",
      "PAY_6                       1.181210e+02  3.426237e+02 -8.158327e+02   \n",
      "BILL_AMT1                   2.034048e+08  1.826164e+08  1.879091e+08   \n",
      "BILL_AMT2                   1.888731e+08  1.643518e+08  1.717652e+08   \n",
      "BILL_AMT3                   1.587478e+08  1.558003e+08  1.904126e+08   \n",
      "BILL_AMT4                   3.398374e+08  1.312133e+08  1.576892e+08   \n",
      "BILL_AMT5                   2.700805e+08  2.791830e+08  1.315051e+08   \n",
      "BILL_AMT6                   2.451233e+08  2.334670e+08  2.799982e+08   \n",
      "PAY_AMT1                    7.354626e+07  5.178189e+07  3.756893e+07   \n",
      "PAY_AMT2                    9.929841e+07  6.501168e+07  6.368414e+07   \n",
      "PAY_AMT3                    3.100051e+08  5.966970e+07  4.282921e+07   \n",
      "PAY_AMT4                    5.966970e+07  2.454286e+08  3.634098e+07   \n",
      "PAY_AMT5                    4.282921e+07  3.634098e+07  2.334266e+08   \n",
      "PAY_AMT6                    5.093879e+07  4.395747e+07  4.207110e+07   \n",
      "default payment next month -4.110763e+02 -3.695159e+02 -3.495625e+02   \n",
      "\n",
      "                                PAY_AMT6  default payment next month  \n",
      "LIMIT_BAL                   5.065153e+08                -8267.551759  \n",
      "SEX                        -2.405188e+01                   -0.008113  \n",
      "EDUCATION                  -5.226734e+02                    0.009187  \n",
      "MARRIAGE                   -6.162327e+01                   -0.005273  \n",
      "AGE                         3.191904e+03                    0.053143  \n",
      "PAY_0                      -1.172194e+03                    0.151499  \n",
      "PAY_2                      -7.768350e+02                    0.130960  \n",
      "PAY_3                      -7.630260e+02                    0.116867  \n",
      "PAY_4                      -5.521373e+02                    0.105115  \n",
      "PAY_5                      -4.638926e+02                    0.096020  \n",
      "PAY_6                      -5.172163e+02                    0.089194  \n",
      "BILL_AMT1                   2.347681e+08                 -600.394108  \n",
      "BILL_AMT2                   2.204845e+08                 -419.289137  \n",
      "BILL_AMT3                   2.247817e+08                 -405.153680  \n",
      "BILL_AMT4                   2.031590e+08                 -271.199885  \n",
      "BILL_AMT5                   1.774537e+08                 -170.597447  \n",
      "BILL_AMT6                   1.222761e+08                 -132.796294  \n",
      "PAY_AMT1                    5.469033e+07                 -501.374552  \n",
      "PAY_AMT2                    6.456816e+07                 -560.210740  \n",
      "PAY_AMT3                    5.093879e+07                 -411.076284  \n",
      "PAY_AMT4                    4.395747e+07                 -369.515887  \n",
      "PAY_AMT5                    4.207110e+07                 -349.562530  \n",
      "PAY_AMT6                    3.160383e+08                 -392.426415  \n",
      "default payment next month -3.924264e+02                    0.172276  \n",
      "\n",
      "[24 rows x 24 columns]\n"
     ]
    }
   ],
   "source": [
    "# Cálculo de la covarianza para el Data Set modificado\n",
    "covMat3 = credit3.cov()\n",
    "print('***** Matriz de Covarianza Data Set modificado *****')\n",
    "print(covMat3)"
   ]
  },
  {
   "cell_type": "code",
   "execution_count": 10,
   "metadata": {},
   "outputs": [
    {
     "name": "stdout",
     "output_type": "stream",
     "text": [
      "***** Matriz de Correlación Data Set modificado *****\n",
      "                            LIMIT_BAL       SEX  EDUCATION  MARRIAGE  \\\n",
      "LIMIT_BAL                    1.000000  0.024755  -0.219161 -0.108139   \n",
      "SEX                          0.024755  1.000000   0.014232 -0.031389   \n",
      "EDUCATION                   -0.219161  0.014232   1.000000 -0.143464   \n",
      "MARRIAGE                    -0.108139 -0.031389  -0.143464  1.000000   \n",
      "AGE                          0.144713 -0.090874   0.175061 -0.414170   \n",
      "PAY_0                       -0.271214 -0.057643   0.105364  0.019917   \n",
      "PAY_2                       -0.296382 -0.070771   0.121566  0.024199   \n",
      "PAY_3                       -0.286123 -0.066096   0.114025  0.032688   \n",
      "PAY_4                       -0.267460 -0.060173   0.108793  0.033122   \n",
      "PAY_5                       -0.249411 -0.055064   0.097520  0.035629   \n",
      "PAY_6                       -0.235195 -0.044008   0.082316  0.034345   \n",
      "BILL_AMT1                    0.285430 -0.033642   0.023581 -0.023472   \n",
      "BILL_AMT2                    0.278314 -0.031183   0.018749 -0.021602   \n",
      "BILL_AMT3                    0.283236 -0.024563   0.013002 -0.024909   \n",
      "BILL_AMT4                    0.293988 -0.021880  -0.000451 -0.023344   \n",
      "BILL_AMT5                    0.295562 -0.017005  -0.007567 -0.025393   \n",
      "BILL_AMT6                    0.290389 -0.016733  -0.009099 -0.021207   \n",
      "PAY_AMT1                     0.195236 -0.000242  -0.037456 -0.005979   \n",
      "PAY_AMT2                     0.178408 -0.001391  -0.030038 -0.008093   \n",
      "PAY_AMT3                     0.210167 -0.008597  -0.039943 -0.003541   \n",
      "PAY_AMT4                     0.203242 -0.002229  -0.038218 -0.012659   \n",
      "PAY_AMT5                     0.217202 -0.001667  -0.040358 -0.001205   \n",
      "PAY_AMT6                     0.219595 -0.002766  -0.037200 -0.006641   \n",
      "default payment next month  -0.153520 -0.039961   0.028006 -0.024339   \n",
      "\n",
      "                                 AGE     PAY_0     PAY_2     PAY_3     PAY_4  \\\n",
      "LIMIT_BAL                   0.144713 -0.271214 -0.296382 -0.286123 -0.267460   \n",
      "SEX                        -0.090874 -0.057643 -0.070771 -0.066096 -0.060173   \n",
      "EDUCATION                   0.175061  0.105364  0.121566  0.114025  0.108793   \n",
      "MARRIAGE                   -0.414170  0.019917  0.024199  0.032688  0.033122   \n",
      "AGE                         1.000000 -0.039447 -0.050148 -0.053048 -0.049722   \n",
      "PAY_0                      -0.039447  1.000000  0.672164  0.574245  0.538841   \n",
      "PAY_2                      -0.050148  0.672164  1.000000  0.766552  0.662067   \n",
      "PAY_3                      -0.053048  0.574245  0.766552  1.000000  0.777359   \n",
      "PAY_4                      -0.049722  0.538841  0.662067  0.777359  1.000000   \n",
      "PAY_5                      -0.053826  0.509426  0.622780  0.686775  0.819835   \n",
      "PAY_6                      -0.048773  0.474553  0.575501  0.632684  0.716449   \n",
      "BILL_AMT1                   0.056239  0.187068  0.234887  0.208473  0.202812   \n",
      "BILL_AMT2                   0.054283  0.189859  0.235257  0.237295  0.225816   \n",
      "BILL_AMT3                   0.053710  0.179785  0.224146  0.227494  0.244983   \n",
      "BILL_AMT4                   0.051353  0.179125  0.222237  0.227202  0.245917   \n",
      "BILL_AMT5                   0.049345  0.180635  0.221348  0.225145  0.242902   \n",
      "BILL_AMT6                   0.047613  0.176980  0.219403  0.222327  0.239154   \n",
      "PAY_AMT1                    0.026147 -0.079269 -0.080701  0.001295 -0.009362   \n",
      "PAY_AMT2                    0.021785 -0.070101 -0.058990 -0.066793 -0.001944   \n",
      "PAY_AMT3                    0.029247 -0.070561 -0.055901 -0.053311 -0.069235   \n",
      "PAY_AMT4                    0.021379 -0.064005 -0.046858 -0.046067 -0.043461   \n",
      "PAY_AMT5                    0.022850 -0.058190 -0.037093 -0.035863 -0.033590   \n",
      "PAY_AMT6                    0.019478 -0.058673 -0.036500 -0.035861 -0.026565   \n",
      "default payment next month  0.013890  0.324794  0.263551  0.235253  0.216614   \n",
      "\n",
      "                               PAY_5  ...  BILL_AMT4  BILL_AMT5  BILL_AMT6  \\\n",
      "LIMIT_BAL                  -0.249411  ...   0.293988   0.295562   0.290389   \n",
      "SEX                        -0.055064  ...  -0.021880  -0.017005  -0.016733   \n",
      "EDUCATION                   0.097520  ...  -0.000451  -0.007567  -0.009099   \n",
      "MARRIAGE                    0.035629  ...  -0.023344  -0.025393  -0.021207   \n",
      "AGE                        -0.053826  ...   0.051353   0.049345   0.047613   \n",
      "PAY_0                       0.509426  ...   0.179125   0.180635   0.176980   \n",
      "PAY_2                       0.622780  ...   0.222237   0.221348   0.219403   \n",
      "PAY_3                       0.686775  ...   0.227202   0.225145   0.222327   \n",
      "PAY_4                       0.819835  ...   0.245917   0.242902   0.239154   \n",
      "PAY_5                       1.000000  ...   0.271915   0.269783   0.262509   \n",
      "PAY_6                       0.816900  ...   0.266356   0.290894   0.285091   \n",
      "BILL_AMT1                   0.206684  ...   0.860272   0.829779   0.802650   \n",
      "BILL_AMT2                   0.226913  ...   0.892482   0.859778   0.831594   \n",
      "BILL_AMT3                   0.243335  ...   0.923969   0.883910   0.853320   \n",
      "BILL_AMT4                   0.271915  ...   1.000000   0.940134   0.900941   \n",
      "BILL_AMT5                   0.269783  ...   0.940134   1.000000   0.946197   \n",
      "BILL_AMT6                   0.262509  ...   0.900941   0.946197   1.000000   \n",
      "PAY_AMT1                   -0.006089  ...   0.233012   0.217031   0.199965   \n",
      "PAY_AMT2                   -0.003191  ...   0.207564   0.181246   0.172663   \n",
      "PAY_AMT3                    0.009062  ...   0.300023   0.252305   0.233770   \n",
      "PAY_AMT4                   -0.058299  ...   0.130191   0.293118   0.250237   \n",
      "PAY_AMT5                   -0.033337  ...   0.160433   0.141574   0.307729   \n",
      "PAY_AMT6                   -0.023027  ...   0.177637   0.164184   0.115494   \n",
      "default payment next month  0.204149  ...  -0.010156  -0.006760  -0.005372   \n",
      "\n",
      "                            PAY_AMT1  PAY_AMT2  PAY_AMT3  PAY_AMT4  PAY_AMT5  \\\n",
      "LIMIT_BAL                   0.195236  0.178408  0.210167  0.203242  0.217202   \n",
      "SEX                        -0.000242 -0.001391 -0.008597 -0.002229 -0.001667   \n",
      "EDUCATION                  -0.037456 -0.030038 -0.039943 -0.038218 -0.040358   \n",
      "MARRIAGE                   -0.005979 -0.008093 -0.003541 -0.012659 -0.001205   \n",
      "AGE                         0.026147  0.021785  0.029247  0.021379  0.022850   \n",
      "PAY_0                      -0.079269 -0.070101 -0.070561 -0.064005 -0.058190   \n",
      "PAY_2                      -0.080701 -0.058990 -0.055901 -0.046858 -0.037093   \n",
      "PAY_3                       0.001295 -0.066793 -0.053311 -0.046067 -0.035863   \n",
      "PAY_4                      -0.009362 -0.001944 -0.069235 -0.043461 -0.033590   \n",
      "PAY_5                      -0.006089 -0.003191  0.009062 -0.058299 -0.033337   \n",
      "PAY_6                      -0.001496 -0.005223  0.005834  0.019018 -0.046434   \n",
      "BILL_AMT1                   0.140277  0.099355  0.156887  0.158303  0.167026   \n",
      "BILL_AMT2                   0.280365  0.100851  0.150718  0.147398  0.157957   \n",
      "BILL_AMT3                   0.244335  0.316936  0.130011  0.143405  0.179712   \n",
      "BILL_AMT4                   0.233012  0.207564  0.300023  0.130191  0.160433   \n",
      "BILL_AMT5                   0.217031  0.181246  0.252305  0.293118  0.141574   \n",
      "BILL_AMT6                   0.199965  0.172663  0.233770  0.250237  0.307729   \n",
      "PAY_AMT1                    1.000000  0.285576  0.252191  0.199558  0.148459   \n",
      "PAY_AMT2                    0.285576  1.000000  0.244770  0.180107  0.180908   \n",
      "PAY_AMT3                    0.252191  0.244770  1.000000  0.216325  0.159214   \n",
      "PAY_AMT4                    0.199558  0.180107  0.216325  1.000000  0.151830   \n",
      "PAY_AMT5                    0.148459  0.180908  0.159214  0.151830  1.000000   \n",
      "PAY_AMT6                    0.185735  0.157634  0.162740  0.157834  0.154896   \n",
      "default payment next month -0.072929 -0.058579 -0.056250 -0.056827 -0.055124   \n",
      "\n",
      "                            PAY_AMT6  default payment next month  \n",
      "LIMIT_BAL                   0.219595                   -0.153520  \n",
      "SEX                        -0.002766                   -0.039961  \n",
      "EDUCATION                  -0.037200                    0.028006  \n",
      "MARRIAGE                   -0.006641                   -0.024339  \n",
      "AGE                         0.019478                    0.013890  \n",
      "PAY_0                      -0.058673                    0.324794  \n",
      "PAY_2                      -0.036500                    0.263551  \n",
      "PAY_3                      -0.035861                    0.235253  \n",
      "PAY_4                      -0.026565                    0.216614  \n",
      "PAY_5                      -0.023027                    0.204149  \n",
      "PAY_6                      -0.025299                    0.186866  \n",
      "BILL_AMT1                   0.179341                   -0.019644  \n",
      "BILL_AMT2                   0.174256                   -0.014193  \n",
      "BILL_AMT3                   0.182326                   -0.014076  \n",
      "BILL_AMT4                   0.177637                   -0.010156  \n",
      "BILL_AMT5                   0.164184                   -0.006760  \n",
      "BILL_AMT6                   0.115494                   -0.005372  \n",
      "PAY_AMT1                    0.185735                   -0.072929  \n",
      "PAY_AMT2                    0.157634                   -0.058579  \n",
      "PAY_AMT3                    0.162740                   -0.056250  \n",
      "PAY_AMT4                    0.157834                   -0.056827  \n",
      "PAY_AMT5                    0.154896                   -0.055124  \n",
      "PAY_AMT6                    1.000000                   -0.053183  \n",
      "default payment next month -0.053183                    1.000000  \n",
      "\n",
      "[24 rows x 24 columns]\n"
     ]
    }
   ],
   "source": [
    "# Creación de una matriz de correlación básica con pandas\n",
    "corrMat3 = credit3.corr()\n",
    "print('***** Matriz de Correlación Data Set modificado *****')\n",
    "print(corrMat3)"
   ]
  },
  {
   "cell_type": "markdown",
   "metadata": {},
   "source": [
    "Análisis Exploratorio de los Datos"
   ]
  },
  {
   "cell_type": "code",
   "execution_count": 11,
   "metadata": {},
   "outputs": [],
   "source": [
    "# Carga de librerias adicionales\n",
    "from pandas import Series, DataFrame\n",
    "import matplotlib as mpl\n",
    "import seaborn as sns \n",
    "%matplotlib inline\n",
    "\n",
    "# Asignación del tamaño por defecto de la figura\n",
    "mpl.rcParams['figure.figsize'] = (10.0, 8.0)"
   ]
  },
  {
   "cell_type": "code",
   "execution_count": 12,
   "metadata": {},
   "outputs": [
    {
     "name": "stdout",
     "output_type": "stream",
     "text": [
      "***** Cantidad de Clientes por Estado Civil *****\n"
     ]
    },
    {
     "data": {
      "text/plain": [
       "MARRIAGE\n",
       "0       54\n",
       "1    13659\n",
       "2    15964\n",
       "3      323\n",
       "Name: MARRIAGE, dtype: int64"
      ]
     },
     "execution_count": 12,
     "metadata": {},
     "output_type": "execute_result"
    }
   ],
   "source": [
    "# Cantidad de clientes por estado civil\n",
    "print('***** Cantidad de Clientes por Estado Civil *****')\n",
    "credit.groupby('MARRIAGE')['MARRIAGE'].count()"
   ]
  },
  {
   "cell_type": "code",
   "execution_count": 13,
   "metadata": {},
   "outputs": [
    {
     "data": {
      "text/plain": [
       "<seaborn.axisgrid.FacetGrid at 0x1e3017a0288>"
      ]
     },
     "execution_count": 13,
     "metadata": {},
     "output_type": "execute_result"
    },
    {
     "data": {
      "image/png": "[encoded data removed]",
      "text/plain": [
       "<Figure size 540x360 with 1 Axes>"
      ]
     },
     "metadata": {
      "needs_background": "light"
     },
     "output_type": "display_data"
    }
   ],
   "source": [
    "# Se grafica la cantidad de clientes según el estado civil\n",
    "fg = sns.catplot('MARRIAGE', data=credit, kind='count', aspect=1.5)\n",
    "fg.set_xlabels('Estado Civil')"
   ]
  },
  {
   "cell_type": "markdown",
   "metadata": {},
   "source": [
    "La mayoría de los clientes están solteros, pero la diferencia con los casados es muy poca. La cantidad de divorciados y otros estados civiles son muy bajos"
   ]
  },
  {
   "cell_type": "code",
   "execution_count": 14,
   "metadata": {},
   "outputs": [
    {
     "name": "stdout",
     "output_type": "stream",
     "text": [
      "***** Cantidad de Clientes según el Nivel de Estudio *****\n"
     ]
    },
    {
     "data": {
      "text/plain": [
       "EDUCATION\n",
       "0       14\n",
       "1    10585\n",
       "2    14030\n",
       "3     4917\n",
       "4      123\n",
       "5      280\n",
       "6       51\n",
       "Name: EDUCATION, dtype: int64"
      ]
     },
     "execution_count": 14,
     "metadata": {},
     "output_type": "execute_result"
    }
   ],
   "source": [
    "# Cantidad de clientes por nivel de estudio\n",
    "print('***** Cantidad de Clientes según el Nivel de Estudio *****')\n",
    "credit.groupby('EDUCATION')['EDUCATION'].count()"
   ]
  },
  {
   "cell_type": "code",
   "execution_count": 15,
   "metadata": {},
   "outputs": [
    {
     "data": {
      "text/plain": [
       "<seaborn.axisgrid.FacetGrid at 0x1e304037b48>"
      ]
     },
     "execution_count": 15,
     "metadata": {},
     "output_type": "execute_result"
    },
    {
     "data": {
      "image/png": "[encoded data removed]",
      "text/plain": [
       "<Figure size 540x360 with 1 Axes>"
      ]
     },
     "metadata": {
      "needs_background": "light"
     },
     "output_type": "display_data"
    }
   ],
   "source": [
    "# Se grafica la cantidad de clientes según el nivel de estudio\n",
    "fg = sns.catplot('EDUCATION', data=credit, kind='count', aspect=1.5)\n",
    "fg.set_xlabels('Nivel de Estudio')"
   ]
  },
  {
   "cell_type": "markdown",
   "metadata": {},
   "source": [
    "En el set de datos tenemos una gran cantidad de clientes con estudios universitarios, con una gran diferencia con los\n",
    "graduados de la escuela. Estos últimos son un poco más del doble de los graduados del colegio. Los otro niveles de\n",
    "estudio son muy bajos."
   ]
  },
  {
   "cell_type": "code",
   "execution_count": 16,
   "metadata": {},
   "outputs": [
    {
     "name": "stdout",
     "output_type": "stream",
     "text": [
      "***** Cantidad de Clentes según el Sexo *****\n"
     ]
    },
    {
     "data": {
      "text/plain": [
       "SEX\n",
       "1    11888\n",
       "2    18112\n",
       "Name: SEX, dtype: int64"
      ]
     },
     "execution_count": 16,
     "metadata": {},
     "output_type": "execute_result"
    }
   ],
   "source": [
    "# Cantidad de clientes según el sexo\n",
    "print('***** Cantidad de Clentes según el Sexo *****')\n",
    "credit.groupby('SEX')['SEX'].count()"
   ]
  },
  {
   "cell_type": "code",
   "execution_count": 17,
   "metadata": {},
   "outputs": [
    {
     "data": {
      "text/plain": [
       "<seaborn.axisgrid.FacetGrid at 0x1e30510f848>"
      ]
     },
     "execution_count": 17,
     "metadata": {},
     "output_type": "execute_result"
    },
    {
     "data": {
      "image/png": "[encoded data removed]",
      "text/plain": [
       "<Figure size 540x360 with 1 Axes>"
      ]
     },
     "metadata": {
      "needs_background": "light"
     },
     "output_type": "display_data"
    }
   ],
   "source": [
    "# Se grafica la cantidad de clientes según el sexo\n",
    "fg = sns.catplot('SEX', data=credit, kind='count', aspect=1.5)\n",
    "fg.set_xlabels('Sexo')"
   ]
  },
  {
   "cell_type": "markdown",
   "metadata": {},
   "source": [
    "La cantidad de mujeres que son clientes sobrepasan en una tercera parte a los hombres"
   ]
  },
  {
   "cell_type": "code",
   "execution_count": 18,
   "metadata": {},
   "outputs": [
    {
     "name": "stdout",
     "output_type": "stream",
     "text": [
      "***** Cantidad de clientes según su estado de pago *****\n"
     ]
    },
    {
     "data": {
      "text/plain": [
       "default payment next month\n",
       "0    23364\n",
       "1     6636\n",
       "Name: default payment next month, dtype: int64"
      ]
     },
     "execution_count": 18,
     "metadata": {},
     "output_type": "execute_result"
    }
   ],
   "source": [
    "# Cantidad de clientes según su estado de pago\n",
    "print('***** Cantidad de clientes según su estado de pago *****')\n",
    "credit.groupby('default payment next month')['default payment next month'].count()"
   ]
  },
  {
   "cell_type": "code",
   "execution_count": 19,
   "metadata": {},
   "outputs": [
    {
     "data": {
      "text/plain": [
       "<seaborn.axisgrid.FacetGrid at 0x1e305127b88>"
      ]
     },
     "execution_count": 19,
     "metadata": {},
     "output_type": "execute_result"
    },
    {
     "data": {
      "image/png": "[encoded data removed]",
      "text/plain": [
       "<Figure size 540x360 with 1 Axes>"
      ]
     },
     "metadata": {
      "needs_background": "light"
     },
     "output_type": "display_data"
    }
   ],
   "source": [
    "# Se grafica la cantidad de clientes según el estado del pago\n",
    "fg = sns.catplot('default payment next month', data=credit, kind='count', aspect=1.5)\n",
    "fg.set_xlabels('Comportamiento')"
   ]
  },
  {
   "cell_type": "markdown",
   "metadata": {},
   "source": [
    "En general, un 22% de los clientes tienen el comportamiento por defecto, están debiendo"
   ]
  },
  {
   "cell_type": "code",
   "execution_count": 20,
   "metadata": {},
   "outputs": [
    {
     "name": "stdout",
     "output_type": "stream",
     "text": [
      "***** Distribución de los hombres y las mujeres según su estado de pago *****\n"
     ]
    },
    {
     "data": {
      "text/plain": [
       "SEX  default payment next month\n",
       "1    0                              9015\n",
       "     1                              2873\n",
       "2    0                             14349\n",
       "     1                              3763\n",
       "Name: SEX, dtype: int64"
      ]
     },
     "execution_count": 20,
     "metadata": {},
     "output_type": "execute_result"
    }
   ],
   "source": [
    "# Cantidad de mujeres y hombres por cada comportamiento\n",
    "print('***** Distribución de los hombres y las mujeres según su estado de pago *****')\n",
    "credit.groupby(['SEX', 'default payment next month'])['SEX'].count()"
   ]
  },
  {
   "cell_type": "code",
   "execution_count": 21,
   "metadata": {},
   "outputs": [
    {
     "data": {
      "text/plain": [
       "<seaborn.axisgrid.FacetGrid at 0x1e305206fc8>"
      ]
     },
     "execution_count": 21,
     "metadata": {},
     "output_type": "execute_result"
    },
    {
     "data": {
      "image/png": "[encoded data removed]",
      "text/plain": [
       "<Figure size 672.375x360 with 1 Axes>"
      ]
     },
     "metadata": {
      "needs_background": "light"
     },
     "output_type": "display_data"
    }
   ],
   "source": [
    "# Se grafican los resultados anteriores\n",
    "g = sns.catplot('default payment next month', data=credit, hue='SEX', kind='count', aspect=1.75)\n",
    "g.set_xlabels('Comportamiento')"
   ]
  },
  {
   "cell_type": "markdown",
   "metadata": {},
   "source": [
    "Un 24% de los hombre están debiendo, de las mujeres es el 21%"
   ]
  },
  {
   "cell_type": "code",
   "execution_count": 22,
   "metadata": {},
   "outputs": [
    {
     "name": "stdout",
     "output_type": "stream",
     "text": [
      "***** Distribución de clientes por estado civil según su estado de pago *****\n"
     ]
    },
    {
     "data": {
      "text/plain": [
       "MARRIAGE  default payment next month\n",
       "0         0                                49\n",
       "          1                                 5\n",
       "1         0                             10453\n",
       "          1                              3206\n",
       "2         0                             12623\n",
       "          1                              3341\n",
       "3         0                               239\n",
       "          1                                84\n",
       "Name: MARRIAGE, dtype: int64"
      ]
     },
     "execution_count": 22,
     "metadata": {},
     "output_type": "execute_result"
    }
   ],
   "source": [
    "# Comportamiento según el estado civil del cliente\n",
    "print('***** Distribución de clientes por estado civil según su estado de pago *****')\n",
    "credit.groupby(['MARRIAGE', 'default payment next month'])['MARRIAGE'].count()"
   ]
  },
  {
   "cell_type": "code",
   "execution_count": 23,
   "metadata": {},
   "outputs": [
    {
     "data": {
      "text/plain": [
       "<seaborn.axisgrid.FacetGrid at 0x1e305276dc8>"
      ]
     },
     "execution_count": 23,
     "metadata": {},
     "output_type": "execute_result"
    },
    {
     "data": {
      "image/png": "[encoded data removed]",
      "text/plain": [
       "<Figure size 691x360 with 1 Axes>"
      ]
     },
     "metadata": {
      "needs_background": "light"
     },
     "output_type": "display_data"
    }
   ],
   "source": [
    "# Se grafican los resultados anteriores\n",
    "g = sns.catplot('default payment next month', data=credit, hue='MARRIAGE', kind='count', aspect=1.75)\n",
    "g.set_xlabels('Comportamiento')"
   ]
  },
  {
   "cell_type": "markdown",
   "metadata": {},
   "source": [
    "El 23% de los clientes casados, el 21% de los solteros y el 26% de divorsidaos están debiendo, el otro tipo está en el 9%."
   ]
  },
  {
   "cell_type": "code",
   "execution_count": 24,
   "metadata": {},
   "outputs": [
    {
     "name": "stdout",
     "output_type": "stream",
     "text": [
      "***** Distribución de clientes por nivel de estudio según su estado de pago *****\n"
     ]
    },
    {
     "data": {
      "text/plain": [
       "EDUCATION  default payment next month\n",
       "0          0                                14\n",
       "1          0                              8549\n",
       "           1                              2036\n",
       "2          0                             10700\n",
       "           1                              3330\n",
       "3          0                              3680\n",
       "           1                              1237\n",
       "4          0                               116\n",
       "           1                                 7\n",
       "5          0                               262\n",
       "           1                                18\n",
       "6          0                                43\n",
       "           1                                 8\n",
       "Name: EDUCATION, dtype: int64"
      ]
     },
     "execution_count": 24,
     "metadata": {},
     "output_type": "execute_result"
    }
   ],
   "source": [
    "# Comportamiento según el nivel de estudio del cliente\n",
    "print('***** Distribución de clientes por nivel de estudio según su estado de pago *****')\n",
    "credit.groupby(['EDUCATION', 'default payment next month'])['EDUCATION'].count()"
   ]
  },
  {
   "cell_type": "code",
   "execution_count": 25,
   "metadata": {},
   "outputs": [
    {
     "data": {
      "text/plain": [
       "<seaborn.axisgrid.FacetGrid at 0x1e305280288>"
      ]
     },
     "execution_count": 25,
     "metadata": {},
     "output_type": "execute_result"
    },
    {
     "data": {
      "image/png": "[encoded data removed]",
      "text/plain": [
       "<Figure size 697.25x360 with 1 Axes>"
      ]
     },
     "metadata": {
      "needs_background": "light"
     },
     "output_type": "display_data"
    }
   ],
   "source": [
    "# Se grafican los resultados anteriores\n",
    "g = sns.catplot('default payment next month', data=credit, hue='EDUCATION', kind='count', aspect=1.75)\n",
    "g.set_xlabels('Comportamiento')"
   ]
  },
  {
   "cell_type": "markdown",
   "metadata": {},
   "source": [
    "El 19% de los clientes con edución escolar, el 24% de los universitarios y el 25% de los graduados de colegio están debiendo. El resto de las personas tienen un porcentaje inferior al 15%, la mayoría bajo 6%."
   ]
  },
  {
   "cell_type": "markdown",
   "metadata": {},
   "source": [
    "Proceso para dividir las edades en 4 tractos, aproximadamente de 21 a 35, de 36 a 50, de 51 a 65 y de 66 a 79"
   ]
  },
  {
   "cell_type": "code",
   "execution_count": 26,
   "metadata": {},
   "outputs": [],
   "source": [
    "# Carga lo necesario para el proceso de discreción\n",
    "from sklearn.preprocessing import KBinsDiscretizer\n",
    "# Carga los datos modificados en un data set independiente para hacer el ajuste\n",
    "credit2 = pd.read_csv('Credit_Card_Clients.csv')\n",
    "# Ajusta el dato de la edad por rangos\n",
    "AGE_dis = KBinsDiscretizer(n_bins = 4, encode='ordinal', strategy = \"kmeans\").fit_transform(credit[['AGE']])\n",
    "AGE_dis = pd.DataFrame(AGE_dis).astype(int)\n",
    "AGE_dis = AGE_dis.rename(columns = {0: 'AGE'})\n",
    "credit2[['AGE']] = AGE_dis"
   ]
  },
  {
   "cell_type": "code",
   "execution_count": 27,
   "metadata": {},
   "outputs": [
    {
     "name": "stdout",
     "output_type": "stream",
     "text": [
      "***** Cantidad de Clientes por Grupos de Edad *****\n"
     ]
    },
    {
     "data": {
      "text/plain": [
       "AGE\n",
       "0    13388\n",
       "1     9162\n",
       "2     5181\n",
       "3     2269\n",
       "Name: AGE, dtype: int64"
      ]
     },
     "execution_count": 27,
     "metadata": {},
     "output_type": "execute_result"
    }
   ],
   "source": [
    "# Cantidad de clientes por edad\n",
    "print('***** Cantidad de Clientes por Grupos de Edad *****')\n",
    "credit2.groupby('AGE')['AGE'].count()"
   ]
  },
  {
   "cell_type": "code",
   "execution_count": 28,
   "metadata": {},
   "outputs": [
    {
     "data": {
      "text/plain": [
       "<seaborn.axisgrid.FacetGrid at 0x1e3052f4dc8>"
      ]
     },
     "execution_count": 28,
     "metadata": {},
     "output_type": "execute_result"
    },
    {
     "data": {
      "image/png": "[encoded data removed]",
      "text/plain": [
       "<Figure size 540x360 with 1 Axes>"
      ]
     },
     "metadata": {
      "needs_background": "light"
     },
     "output_type": "display_data"
    }
   ],
   "source": [
    "# Se grafica la cantidad de clientes según la edad\n",
    "fg = sns.catplot('AGE', data=credit2, kind='count', aspect=1.5)\n",
    "fg.set_xlabels('Edad')"
   ]
  },
  {
   "cell_type": "markdown",
   "metadata": {},
   "source": [
    "La mayoría de los clientes están en los primeros rangos de edad"
   ]
  },
  {
   "cell_type": "code",
   "execution_count": 29,
   "metadata": {},
   "outputs": [
    {
     "name": "stdout",
     "output_type": "stream",
     "text": [
      "***** Distribución de clientes por rango de edad según su estado de pago *****\n"
     ]
    },
    {
     "data": {
      "text/plain": [
       "AGE  default payment next month\n",
       "0    0                             10463\n",
       "     1                              2925\n",
       "1    0                              7242\n",
       "     1                              1920\n",
       "2    0                              3967\n",
       "     1                              1214\n",
       "3    0                              1692\n",
       "     1                               577\n",
       "Name: AGE, dtype: int64"
      ]
     },
     "execution_count": 29,
     "metadata": {},
     "output_type": "execute_result"
    }
   ],
   "source": [
    "# Comportamiento según la edad del cliente\n",
    "print('***** Distribución de clientes por rango de edad según su estado de pago *****')\n",
    "credit2.groupby(['AGE', 'default payment next month'])['AGE'].count()"
   ]
  },
  {
   "cell_type": "code",
   "execution_count": 30,
   "metadata": {},
   "outputs": [
    {
     "data": {
      "text/plain": [
       "<seaborn.axisgrid.FacetGrid at 0x1e305390b88>"
      ]
     },
     "execution_count": 30,
     "metadata": {},
     "output_type": "execute_result"
    },
    {
     "data": {
      "image/png": "[encoded data removed]",
      "text/plain": [
       "<Figure size 672.375x360 with 1 Axes>"
      ]
     },
     "metadata": {
      "needs_background": "light"
     },
     "output_type": "display_data"
    }
   ],
   "source": [
    "# Se grafican los resultados anteriores\n",
    "g = sns.catplot('default payment next month', data=credit2, hue='AGE', kind='count', aspect=1.75)\n",
    "g.set_xlabels('Comportamiento')"
   ]
  },
  {
   "cell_type": "markdown",
   "metadata": {},
   "source": [
    "En los dos primeros rangos de edades, tenemos los porcentajes más bajos, 22% y 21% respectivamente. Los dos últimos rangos son un poco más altos, 23% y 25%, pero se mantienen muy semejantes"
   ]
  },
  {
   "cell_type": "markdown",
   "metadata": {},
   "source": [
    "Proceso para dividir el límite en 4 tractos: 10k a 208K, 208K a 406K, 406K a 604K, 604K a 802K y 802K a 1M"
   ]
  },
  {
   "cell_type": "code",
   "execution_count": 31,
   "metadata": {},
   "outputs": [],
   "source": [
    "# Ajusta el dato del límite por rangos\n",
    "LIMIT_dis = KBinsDiscretizer(n_bins = 5, encode='ordinal', strategy = \"kmeans\").fit_transform(credit[['LIMIT_BAL']])\n",
    "LIMIT_dis = pd.DataFrame(LIMIT_dis).astype(int)\n",
    "LIMIT_dis = LIMIT_dis.rename(columns = {0: 'LIMIT_BAL'})\n",
    "credit2[['LIMIT_BAL']] = LIMIT_dis"
   ]
  },
  {
   "cell_type": "code",
   "execution_count": 32,
   "metadata": {},
   "outputs": [
    {
     "name": "stdout",
     "output_type": "stream",
     "text": [
      "***** Cantidad de Clientes por Grupos de Límite de Crédito *****\n"
     ]
    },
    {
     "data": {
      "text/plain": [
       "LIMIT_BAL\n",
       "0    13812\n",
       "1     9121\n",
       "2     4818\n",
       "3     2098\n",
       "4      151\n",
       "Name: LIMIT_BAL, dtype: int64"
      ]
     },
     "execution_count": 32,
     "metadata": {},
     "output_type": "execute_result"
    }
   ],
   "source": [
    "# Cantidad de clientes por edas\n",
    "print('***** Cantidad de Clientes por Grupos de Límite de Crédito *****')\n",
    "credit2.groupby('LIMIT_BAL')['LIMIT_BAL'].count()"
   ]
  },
  {
   "cell_type": "code",
   "execution_count": 33,
   "metadata": {},
   "outputs": [
    {
     "data": {
      "text/plain": [
       "<seaborn.axisgrid.FacetGrid at 0x1e303b2b648>"
      ]
     },
     "execution_count": 33,
     "metadata": {},
     "output_type": "execute_result"
    },
    {
     "data": {
      "image/png": "[encoded data removed]",
      "text/plain": [
       "<Figure size 540x360 with 1 Axes>"
      ]
     },
     "metadata": {
      "needs_background": "light"
     },
     "output_type": "display_data"
    }
   ],
   "source": [
    "# Se grafica la cantidad de clientes según la edad\n",
    "fg = sns.catplot('LIMIT_BAL', data=credit2, kind='count', aspect=1.5)\n",
    "fg.set_xlabels('Límite')"
   ]
  },
  {
   "cell_type": "markdown",
   "metadata": {},
   "source": [
    "La gran mayoría de los clientes tienen límites entre los 10K y 208K, seguidos por aquellos con montos entre 208K y 406K"
   ]
  },
  {
   "cell_type": "code",
   "execution_count": 34,
   "metadata": {},
   "outputs": [
    {
     "name": "stdout",
     "output_type": "stream",
     "text": [
      "***** Cantidad de Clientes por Grupo de Límite de Crédito *****\n"
     ]
    },
    {
     "data": {
      "text/plain": [
       "LIMIT_BAL  default payment next month\n",
       "0          0                             9817\n",
       "           1                             3995\n",
       "1          0                             7468\n",
       "           1                             1653\n",
       "2          0                             4096\n",
       "           1                              722\n",
       "3          0                             1850\n",
       "           1                              248\n",
       "4          0                              133\n",
       "           1                               18\n",
       "Name: LIMIT_BAL, dtype: int64"
      ]
     },
     "execution_count": 34,
     "metadata": {},
     "output_type": "execute_result"
    }
   ],
   "source": [
    "# Comportamiento según el límite de crédito del cliente\n",
    "print('***** Cantidad de Clientes por Grupo de Límite de Crédito *****')\n",
    "credit2.groupby(['LIMIT_BAL', 'default payment next month'])['LIMIT_BAL'].count()"
   ]
  },
  {
   "cell_type": "code",
   "execution_count": 35,
   "metadata": {},
   "outputs": [
    {
     "data": {
      "text/plain": [
       "<seaborn.axisgrid.FacetGrid at 0x1e303c57888>"
      ]
     },
     "execution_count": 35,
     "metadata": {},
     "output_type": "execute_result"
    },
    {
     "data": {
      "image/png": "[encoded data removed]",
      "text/plain": [
       "<Figure size 688.125x360 with 1 Axes>"
      ]
     },
     "metadata": {
      "needs_background": "light"
     },
     "output_type": "display_data"
    }
   ],
   "source": [
    "# Se grafican los resultados anteriores\n",
    "g = sns.catplot('default payment next month', data=credit2, hue='LIMIT_BAL', kind='count', aspect=1.75)\n",
    "g.set_xlabels('Comportamiento')"
   ]
  },
  {
   "cell_type": "markdown",
   "metadata": {},
   "source": [
    "El comportamiento según el límite de crédito refleja que los que están entre los 10K y 208K hay un 29% que está debiendo, entre los 208K y 406K es un 18%, entre 406K y 604K son el 15%, y los dos últimos rangos son un 12% cada uno."
   ]
  },
  {
   "cell_type": "code",
   "execution_count": 36,
   "metadata": {},
   "outputs": [
    {
     "data": {
      "text/html": [
       "<div>\n",
       "<style scoped>\n",
       "    .dataframe tbody tr th:only-of-type {\n",
       "        vertical-align: middle;\n",
       "    }\n",
       "\n",
       "    .dataframe tbody tr th {\n",
       "        vertical-align: top;\n",
       "    }\n",
       "\n",
       "    .dataframe thead th {\n",
       "        text-align: right;\n",
       "    }\n",
       "</style>\n",
       "<table border=\"1\" class=\"dataframe\">\n",
       "  <thead>\n",
       "    <tr style=\"text-align: right;\">\n",
       "      <th>AGE</th>\n",
       "      <th>0</th>\n",
       "      <th>1</th>\n",
       "      <th>2</th>\n",
       "      <th>3</th>\n",
       "      <th>All</th>\n",
       "    </tr>\n",
       "    <tr>\n",
       "      <th>SEX</th>\n",
       "      <th></th>\n",
       "      <th></th>\n",
       "      <th></th>\n",
       "      <th></th>\n",
       "      <th></th>\n",
       "    </tr>\n",
       "  </thead>\n",
       "  <tbody>\n",
       "    <tr>\n",
       "      <td>1</td>\n",
       "      <td>1122</td>\n",
       "      <td>894</td>\n",
       "      <td>558</td>\n",
       "      <td>299</td>\n",
       "      <td>2873</td>\n",
       "    </tr>\n",
       "    <tr>\n",
       "      <td>2</td>\n",
       "      <td>1803</td>\n",
       "      <td>1026</td>\n",
       "      <td>656</td>\n",
       "      <td>278</td>\n",
       "      <td>3763</td>\n",
       "    </tr>\n",
       "    <tr>\n",
       "      <td>All</td>\n",
       "      <td>2925</td>\n",
       "      <td>1920</td>\n",
       "      <td>1214</td>\n",
       "      <td>577</td>\n",
       "      <td>6636</td>\n",
       "    </tr>\n",
       "  </tbody>\n",
       "</table>\n",
       "</div>"
      ],
      "text/plain": [
       "AGE     0     1     2    3   All\n",
       "SEX                             \n",
       "1    1122   894   558  299  2873\n",
       "2    1803  1026   656  278  3763\n",
       "All  2925  1920  1214  577  6636"
      ]
     },
     "execution_count": 36,
     "metadata": {},
     "output_type": "execute_result"
    }
   ],
   "source": [
    "# Cantidad de clientes que están debiendo, agrupados por grupo de edad y sexo, con los totales\n",
    "credit2.pivot_table('default payment next month', 'SEX', 'AGE', aggfunc=np.sum, margins=True)"
   ]
  },
  {
   "cell_type": "code",
   "execution_count": 37,
   "metadata": {},
   "outputs": [
    {
     "name": "stdout",
     "output_type": "stream",
     "text": [
      "23364\n"
     ]
    },
    {
     "data": {
      "text/html": [
       "<div>\n",
       "<style scoped>\n",
       "    .dataframe tbody tr th:only-of-type {\n",
       "        vertical-align: middle;\n",
       "    }\n",
       "\n",
       "    .dataframe tbody tr th {\n",
       "        vertical-align: top;\n",
       "    }\n",
       "\n",
       "    .dataframe thead th {\n",
       "        text-align: right;\n",
       "    }\n",
       "</style>\n",
       "<table border=\"1\" class=\"dataframe\">\n",
       "  <thead>\n",
       "    <tr style=\"text-align: right;\">\n",
       "      <th>AGE</th>\n",
       "      <th>0</th>\n",
       "      <th>1</th>\n",
       "      <th>2</th>\n",
       "      <th>3</th>\n",
       "      <th>All</th>\n",
       "    </tr>\n",
       "    <tr>\n",
       "      <th>SEX</th>\n",
       "      <th></th>\n",
       "      <th></th>\n",
       "      <th></th>\n",
       "      <th></th>\n",
       "      <th></th>\n",
       "    </tr>\n",
       "  </thead>\n",
       "  <tbody>\n",
       "    <tr>\n",
       "      <td>1</td>\n",
       "      <td>3679</td>\n",
       "      <td>2863</td>\n",
       "      <td>1676</td>\n",
       "      <td>797</td>\n",
       "      <td>9015</td>\n",
       "    </tr>\n",
       "    <tr>\n",
       "      <td>2</td>\n",
       "      <td>6784</td>\n",
       "      <td>4379</td>\n",
       "      <td>2291</td>\n",
       "      <td>895</td>\n",
       "      <td>14349</td>\n",
       "    </tr>\n",
       "    <tr>\n",
       "      <td>All</td>\n",
       "      <td>10463</td>\n",
       "      <td>7242</td>\n",
       "      <td>3967</td>\n",
       "      <td>1692</td>\n",
       "      <td>23364</td>\n",
       "    </tr>\n",
       "  </tbody>\n",
       "</table>\n",
       "</div>"
      ],
      "text/plain": [
       "AGE      0     1     2     3    All\n",
       "SEX                                \n",
       "1     3679  2863  1676   797   9015\n",
       "2     6784  4379  2291   895  14349\n",
       "All  10463  7242  3967  1692  23364"
      ]
     },
     "execution_count": 37,
     "metadata": {},
     "output_type": "execute_result"
    }
   ],
   "source": [
    "# Crea data set para los que no están debiendo\n",
    "no_deben = credit2[credit2['default payment next month']==0]\n",
    "# Muestra la cantidad de filas de datos del DS\n",
    "print(len(no_deben))\n",
    "# Presenta la tabla por rango de edad y sexo que no están debiendo\n",
    "no_deben.pivot_table('default payment next month', 'SEX', 'AGE', aggfunc=len, margins=True)"
   ]
  },
  {
   "cell_type": "code",
   "execution_count": 38,
   "metadata": {},
   "outputs": [
    {
     "data": {
      "text/plain": [
       "count    30000.000000\n",
       "mean        35.485500\n",
       "std          9.217904\n",
       "min         21.000000\n",
       "25%         28.000000\n",
       "50%         34.000000\n",
       "75%         41.000000\n",
       "max         79.000000\n",
       "Name: AGE, dtype: float64"
      ]
     },
     "execution_count": 38,
     "metadata": {},
     "output_type": "execute_result"
    }
   ],
   "source": [
    "# Información por la edad de los clientes\n",
    "credit.AGE.describe()"
   ]
  },
  {
   "cell_type": "code",
   "execution_count": 39,
   "metadata": {},
   "outputs": [
    {
     "data": {
      "text/plain": [
       "Text(0.5, 1.0, 'Distribución de la edad de los clientes')"
      ]
     },
     "execution_count": 39,
     "metadata": {},
     "output_type": "execute_result"
    },
    {
     "data": {
      "image/png": "[encoded data removed]",
      "text/plain": [
       "<Figure size 720x576 with 1 Axes>"
      ]
     },
     "metadata": {
      "needs_background": "light"
     },
     "output_type": "display_data"
    }
   ],
   "source": [
    "age = credit['AGE'].dropna()\n",
    "ageDist = sns.distplot(age)\n",
    "ageDist.set_title(\"Distribución de la edad de los clientes\")"
   ]
  },
  {
   "cell_type": "code",
   "execution_count": 40,
   "metadata": {},
   "outputs": [
    {
     "data": {
      "text/plain": [
       "Text(0.5, 1.0, 'Distribución del límite del crédito de los clientes')"
      ]
     },
     "execution_count": 40,
     "metadata": {},
     "output_type": "execute_result"
    },
    {
     "data": {
      "image/png": "[encoded data removed]",
      "text/plain": [
       "<Figure size 720x576 with 1 Axes>"
      ]
     },
     "metadata": {
      "needs_background": "light"
     },
     "output_type": "display_data"
    }
   ],
   "source": [
    "age = credit['LIMIT_BAL'].dropna()\n",
    "ageDist = sns.distplot(age)\n",
    "ageDist.set_title(\"Distribución del límite del crédito de los clientes\")"
   ]
  },
  {
   "cell_type": "markdown",
   "metadata": {},
   "source": [
    "Selección de características (variables independientes) y la variable dependiente"
   ]
  },
  {
   "cell_type": "code",
   "execution_count": 41,
   "metadata": {},
   "outputs": [
    {
     "name": "stdout",
     "output_type": "stream",
     "text": [
      "Resumen de la muestra de las caracteríticas\n"
     ]
    },
    {
     "data": {
      "text/html": [
       "<div>\n",
       "<style scoped>\n",
       "    .dataframe tbody tr th:only-of-type {\n",
       "        vertical-align: middle;\n",
       "    }\n",
       "\n",
       "    .dataframe tbody tr th {\n",
       "        vertical-align: top;\n",
       "    }\n",
       "\n",
       "    .dataframe thead th {\n",
       "        text-align: right;\n",
       "    }\n",
       "</style>\n",
       "<table border=\"1\" class=\"dataframe\">\n",
       "  <thead>\n",
       "    <tr style=\"text-align: right;\">\n",
       "      <th></th>\n",
       "      <th>LIMIT_BAL</th>\n",
       "      <th>SEX</th>\n",
       "      <th>EDUCATION</th>\n",
       "      <th>MARRIAGE</th>\n",
       "      <th>AGE</th>\n",
       "    </tr>\n",
       "  </thead>\n",
       "  <tbody>\n",
       "    <tr>\n",
       "      <td>0</td>\n",
       "      <td>20000</td>\n",
       "      <td>2</td>\n",
       "      <td>2</td>\n",
       "      <td>1</td>\n",
       "      <td>24</td>\n",
       "    </tr>\n",
       "    <tr>\n",
       "      <td>1</td>\n",
       "      <td>120000</td>\n",
       "      <td>2</td>\n",
       "      <td>2</td>\n",
       "      <td>2</td>\n",
       "      <td>26</td>\n",
       "    </tr>\n",
       "    <tr>\n",
       "      <td>2</td>\n",
       "      <td>90000</td>\n",
       "      <td>2</td>\n",
       "      <td>2</td>\n",
       "      <td>2</td>\n",
       "      <td>34</td>\n",
       "    </tr>\n",
       "    <tr>\n",
       "      <td>3</td>\n",
       "      <td>50000</td>\n",
       "      <td>2</td>\n",
       "      <td>2</td>\n",
       "      <td>1</td>\n",
       "      <td>37</td>\n",
       "    </tr>\n",
       "    <tr>\n",
       "      <td>4</td>\n",
       "      <td>50000</td>\n",
       "      <td>1</td>\n",
       "      <td>2</td>\n",
       "      <td>1</td>\n",
       "      <td>57</td>\n",
       "    </tr>\n",
       "  </tbody>\n",
       "</table>\n",
       "</div>"
      ],
      "text/plain": [
       "   LIMIT_BAL  SEX  EDUCATION  MARRIAGE  AGE\n",
       "0      20000    2          2         1   24\n",
       "1     120000    2          2         2   26\n",
       "2      90000    2          2         2   34\n",
       "3      50000    2          2         1   37\n",
       "4      50000    1          2         1   57"
      ]
     },
     "execution_count": 41,
     "metadata": {},
     "output_type": "execute_result"
    }
   ],
   "source": [
    "# Seleccionar las características\n",
    "features = credit.iloc[:,1:6]\n",
    "print('Resumen de la muestra de las caracteríticas')\n",
    "features.head()"
   ]
  },
  {
   "cell_type": "code",
   "execution_count": 42,
   "metadata": {
    "scrolled": true
   },
   "outputs": [
    {
     "name": "stdout",
     "output_type": "stream",
     "text": [
      "0        1\n",
      "1        1\n",
      "2        0\n",
      "3        0\n",
      "4        0\n",
      "        ..\n",
      "29995    0\n",
      "29996    0\n",
      "29997    1\n",
      "29998    1\n",
      "29999    1\n",
      "Name: default payment next month, Length: 30000, dtype: int64\n"
     ]
    }
   ],
   "source": [
    "# Seleccionar la variable ddependiente\n",
    "depVar = credit['default payment next month']\n",
    "print(depVar)"
   ]
  },
  {
   "cell_type": "code",
   "execution_count": 43,
   "metadata": {},
   "outputs": [
    {
     "name": "stdout",
     "output_type": "stream",
     "text": [
      "*** Cantidad de observaciones para entrenamiento(indepenientes):  21000\n",
      "       LIMIT_BAL  SEX  EDUCATION  MARRIAGE  AGE\n",
      "16395     320000    2          1         2   36\n",
      "21448     440000    2          1         2   30\n",
      "20034     160000    2          3         1   44\n",
      "25755     120000    2          2         1   30\n",
      "1438       50000    1          2         2   54\n",
      "*** El número de observaciones para entrenamiento(dependiente):  21000\n",
      "16395    0\n",
      "21448    0\n",
      "20034    0\n",
      "25755    0\n",
      "1438     0\n",
      "Name: default payment next month, dtype: int64\n"
     ]
    }
   ],
   "source": [
    "# Creación de los conjuntos de entrenamiento y pruebas (70/30)\n",
    "X_train, X_test, y_train, y_test = train_test_split(features, depVar, train_size = 0.70, random_state = 123)\n",
    "print('*** Cantidad de observaciones para entrenamiento(indepenientes): ', str(len(X_train)))\n",
    "print(X_train.head())\n",
    "print('*** El número de observaciones para entrenamiento(dependiente): ',str(len(y_train.index)))\n",
    "print(y_train.head())"
   ]
  },
  {
   "cell_type": "code",
   "execution_count": 44,
   "metadata": {},
   "outputs": [
    {
     "name": "stdout",
     "output_type": "stream",
     "text": [
      "*** Cantidad de observaciones para pruebas(indepenientes):  9000\n",
      "       LIMIT_BAL  SEX  EDUCATION  MARRIAGE  AGE\n",
      "25665      40000    2          2         2   26\n",
      "16464      80000    2          3         1   59\n",
      "22386     170000    2          1         2   30\n",
      "10149     200000    2          2         1   41\n",
      "8729       50000    1          2         1   43\n",
      "*** El número de observaciones para pruebas(dependiente):  9000\n",
      "25665    0\n",
      "16464    0\n",
      "22386    1\n",
      "10149    1\n",
      "8729     0\n",
      "Name: default payment next month, dtype: int64\n"
     ]
    }
   ],
   "source": [
    "# Conjunto de pruebas (Testing)\n",
    "print('*** Cantidad de observaciones para pruebas(indepenientes): ',str(len(X_test.index)))\n",
    "print(X_test.head())\n",
    "print('*** El número de observaciones para pruebas(dependiente): ',str(len(y_test.index)))\n",
    "print(y_test.head())"
   ]
  },
  {
   "cell_type": "markdown",
   "metadata": {},
   "source": [
    "Construcción de los modelos y selección del mejor"
   ]
  },
  {
   "cell_type": "code",
   "execution_count": 77,
   "metadata": {},
   "outputs": [],
   "source": [
    "# Parámetros y definición del modelo\n",
    "model = LinearRegression(n_jobs=10)"
   ]
  },
  {
   "cell_type": "code",
   "execution_count": 45,
   "metadata": {},
   "outputs": [],
   "source": [
    "#Definición para los modelos a utilizar\n",
    "modelSVC = SVC()\n",
    "modelRF = RandomForestClassifier()\n",
    "modelRC = RidgeClassifier()"
   ]
  },
  {
   "cell_type": "code",
   "execution_count": 46,
   "metadata": {},
   "outputs": [
    {
     "data": {
      "text/plain": [
       "RandomForestClassifier(bootstrap=True, ccp_alpha=0.0, class_weight=None,\n",
       "                       criterion='gini', max_depth=None, max_features='auto',\n",
       "                       max_leaf_nodes=None, max_samples=None,\n",
       "                       min_impurity_decrease=0.0, min_impurity_split=None,\n",
       "                       min_samples_leaf=1, min_samples_split=2,\n",
       "                       min_weight_fraction_leaf=0.0, n_estimators=100,\n",
       "                       n_jobs=None, oob_score=False, random_state=None,\n",
       "                       verbose=0, warm_start=False)"
      ]
     },
     "execution_count": 46,
     "metadata": {},
     "output_type": "execute_result"
    }
   ],
   "source": [
    "# Ejecución de los tres modelos (Random Forest)\n",
    "modelRF.fit(X_train,y_train)"
   ]
  },
  {
   "cell_type": "code",
   "execution_count": 47,
   "metadata": {},
   "outputs": [
    {
     "data": {
      "text/plain": [
       "SVC(C=1.0, break_ties=False, cache_size=200, class_weight=None, coef0=0.0,\n",
       "    decision_function_shape='ovr', degree=3, gamma='scale', kernel='rbf',\n",
       "    max_iter=-1, probability=False, random_state=None, shrinking=True,\n",
       "    tol=0.001, verbose=False)"
      ]
     },
     "execution_count": 47,
     "metadata": {},
     "output_type": "execute_result"
    }
   ],
   "source": [
    "# Support Vector Classification (SVC)\n",
    "modelSVC.fit(X_train,y_train)"
   ]
  },
  {
   "cell_type": "code",
   "execution_count": 48,
   "metadata": {
    "scrolled": true
   },
   "outputs": [
    {
     "data": {
      "text/plain": [
       "RidgeClassifier(alpha=1.0, class_weight=None, copy_X=True, fit_intercept=True,\n",
       "                max_iter=None, normalize=False, random_state=None,\n",
       "                solver='auto', tol=0.001)"
      ]
     },
     "execution_count": 48,
     "metadata": {},
     "output_type": "execute_result"
    }
   ],
   "source": [
    "# Ridge Classifier\n",
    "modelRC.fit(X_train,y_train)"
   ]
  },
  {
   "cell_type": "markdown",
   "metadata": {},
   "source": [
    "Para el proceso de selección del mejor modelo"
   ]
  },
  {
   "cell_type": "code",
   "execution_count": 49,
   "metadata": {},
   "outputs": [],
   "source": [
    "# Carga de la función a utilizar\n",
    "from sklearn.model_selection import cross_val_score"
   ]
  },
  {
   "cell_type": "code",
   "execution_count": 50,
   "metadata": {},
   "outputs": [
    {
     "name": "stdout",
     "output_type": "stream",
     "text": [
      "[0.72261905 0.7297619  0.72380952 0.72619048 0.72857143]\n"
     ]
    }
   ],
   "source": [
    "# Obtener le puntaje de cada modelo (Random Forest)\n",
    "print(cross_val_score(modelRF, X_train, y_train)) "
   ]
  },
  {
   "cell_type": "code",
   "execution_count": 51,
   "metadata": {},
   "outputs": [
    {
     "name": "stdout",
     "output_type": "stream",
     "text": [
      "[0.77690476 0.77690476 0.77666667 0.77666667 0.77666667]\n"
     ]
    }
   ],
   "source": [
    "# Support Vector Classification (SVC)\n",
    "print(cross_val_score(modelSVC, X_train, y_train)) "
   ]
  },
  {
   "cell_type": "code",
   "execution_count": 52,
   "metadata": {},
   "outputs": [
    {
     "name": "stdout",
     "output_type": "stream",
     "text": [
      "[0.77690476 0.77690476 0.77666667 0.77666667 0.77666667]\n"
     ]
    }
   ],
   "source": [
    "# Ridge Classifier\n",
    "print(cross_val_score(modelRC, X_train, y_train)) "
   ]
  },
  {
   "cell_type": "markdown",
   "metadata": {},
   "source": [
    "Ajuste y puntuación de los modelos"
   ]
  },
  {
   "cell_type": "code",
   "execution_count": 53,
   "metadata": {},
   "outputs": [
    {
     "name": "stdout",
     "output_type": "stream",
     "text": [
      "[0.72095238 0.72428571 0.725      0.72738095 0.72666667]\n"
     ]
    },
    {
     "data": {
      "text/plain": [
       "0.8468095238095238"
      ]
     },
     "execution_count": 53,
     "metadata": {},
     "output_type": "execute_result"
    }
   ],
   "source": [
    "# Random Forest\n",
    "modelRF.fit(X_train,y_train)\n",
    "print(cross_val_score(modelRF, X_train, y_train))\n",
    "modelRF.score(X_train,y_train)"
   ]
  },
  {
   "cell_type": "code",
   "execution_count": 54,
   "metadata": {},
   "outputs": [
    {
     "name": "stdout",
     "output_type": "stream",
     "text": [
      "[0.77690476 0.77690476 0.77666667 0.77666667 0.77666667]\n"
     ]
    },
    {
     "data": {
      "text/plain": [
       "0.7767619047619048"
      ]
     },
     "execution_count": 54,
     "metadata": {},
     "output_type": "execute_result"
    }
   ],
   "source": [
    "# Support Vector Classification (SVC)\n",
    "modelSVC.fit(X_train,y_train)\n",
    "print(cross_val_score(modelSVC, X_train, y_train))\n",
    "modelSVC.score(X_train,y_train)"
   ]
  },
  {
   "cell_type": "code",
   "execution_count": 55,
   "metadata": {},
   "outputs": [
    {
     "name": "stdout",
     "output_type": "stream",
     "text": [
      "[0.77690476 0.77690476 0.77666667 0.77666667 0.77666667]\n"
     ]
    },
    {
     "data": {
      "text/plain": [
       "0.7767619047619048"
      ]
     },
     "execution_count": 55,
     "metadata": {},
     "output_type": "execute_result"
    }
   ],
   "source": [
    "# Ridge Classifier\n",
    "modelRC.fit(X_train,y_train)\n",
    "print(cross_val_score(modelRC, X_train, y_train))\n",
    "modelRC.score(X_train,y_train)"
   ]
  },
  {
   "cell_type": "markdown",
   "metadata": {},
   "source": [
    "El modelo con el puntaje más alto es el Random Forest Classification, este será usado en el resto del proceso"
   ]
  },
  {
   "cell_type": "markdown",
   "metadata": {},
   "source": [
    "Evaluación del modelo"
   ]
  },
  {
   "cell_type": "code",
   "execution_count": 56,
   "metadata": {},
   "outputs": [],
   "source": [
    "# Haciendo las predicciones\n",
    "predictions = modelRF.predict(X_test)"
   ]
  },
  {
   "cell_type": "code",
   "execution_count": 57,
   "metadata": {},
   "outputs": [],
   "source": [
    "## Evaluando los resultados\n",
    "# Cálculo del RMSE\n",
    "rmse = sqrt(mean_squared_error(y_test, predictions))\n",
    "predRsquared = r2_score(y_test,predictions)"
   ]
  },
  {
   "cell_type": "code",
   "execution_count": 58,
   "metadata": {},
   "outputs": [
    {
     "name": "stdout",
     "output_type": "stream",
     "text": [
      "R Squared: -0.573\n",
      "RMSE: 0.517\n"
     ]
    }
   ],
   "source": [
    "# Cálculos\n",
    "predictions = modelRF.predict(X_test)\n",
    "predRsquared = r2_score(y_test,predictions)\n",
    "rmse = sqrt(mean_squared_error(y_test, predictions))\n",
    "print('R Squared: %.3f' % predRsquared)\n",
    "print('RMSE: %.3f' % rmse)"
   ]
  },
  {
   "cell_type": "code",
   "execution_count": 59,
   "metadata": {
    "scrolled": true
   },
   "outputs": [
    {
     "data": {
      "image/png": "[encoded data removed]",
      "text/plain": [
       "<Figure size 720x576 with 1 Axes>"
      ]
     },
     "metadata": {
      "needs_background": "light"
     },
     "output_type": "display_data"
    }
   ],
   "source": [
    "# Graficando los resultados\n",
    "plt.scatter(y_test, predictions, alpha = 0.5) #, color=['blue','green'])\n",
    "plt.xlabel('Ground Truth')\n",
    "plt.ylabel('Predictions')\n",
    "plt.show();"
   ]
  },
  {
   "cell_type": "markdown",
   "metadata": {},
   "source": [
    "Ajustes de valores"
   ]
  },
  {
   "cell_type": "code",
   "execution_count": 60,
   "metadata": {},
   "outputs": [
    {
     "data": {
      "text/html": [
       "<div>\n",
       "<style scoped>\n",
       "    .dataframe tbody tr th:only-of-type {\n",
       "        vertical-align: middle;\n",
       "    }\n",
       "\n",
       "    .dataframe tbody tr th {\n",
       "        vertical-align: top;\n",
       "    }\n",
       "\n",
       "    .dataframe thead th {\n",
       "        text-align: right;\n",
       "    }\n",
       "</style>\n",
       "<table border=\"1\" class=\"dataframe\">\n",
       "  <thead>\n",
       "    <tr style=\"text-align: right;\">\n",
       "      <th></th>\n",
       "      <th>LIMIT_BAL</th>\n",
       "      <th>SEX</th>\n",
       "      <th>EDUCATION</th>\n",
       "      <th>MARRIAGE</th>\n",
       "      <th>AGE</th>\n",
       "    </tr>\n",
       "  </thead>\n",
       "  <tbody>\n",
       "    <tr>\n",
       "      <td>0</td>\n",
       "      <td>20000</td>\n",
       "      <td>2</td>\n",
       "      <td>2</td>\n",
       "      <td>1</td>\n",
       "      <td>24</td>\n",
       "    </tr>\n",
       "    <tr>\n",
       "      <td>1</td>\n",
       "      <td>120000</td>\n",
       "      <td>2</td>\n",
       "      <td>2</td>\n",
       "      <td>2</td>\n",
       "      <td>26</td>\n",
       "    </tr>\n",
       "    <tr>\n",
       "      <td>2</td>\n",
       "      <td>90000</td>\n",
       "      <td>2</td>\n",
       "      <td>2</td>\n",
       "      <td>2</td>\n",
       "      <td>34</td>\n",
       "    </tr>\n",
       "    <tr>\n",
       "      <td>3</td>\n",
       "      <td>50000</td>\n",
       "      <td>2</td>\n",
       "      <td>2</td>\n",
       "      <td>1</td>\n",
       "      <td>37</td>\n",
       "    </tr>\n",
       "    <tr>\n",
       "      <td>4</td>\n",
       "      <td>50000</td>\n",
       "      <td>1</td>\n",
       "      <td>2</td>\n",
       "      <td>1</td>\n",
       "      <td>57</td>\n",
       "    </tr>\n",
       "    <tr>\n",
       "      <td>...</td>\n",
       "      <td>...</td>\n",
       "      <td>...</td>\n",
       "      <td>...</td>\n",
       "      <td>...</td>\n",
       "      <td>...</td>\n",
       "    </tr>\n",
       "    <tr>\n",
       "      <td>29995</td>\n",
       "      <td>220000</td>\n",
       "      <td>1</td>\n",
       "      <td>3</td>\n",
       "      <td>1</td>\n",
       "      <td>39</td>\n",
       "    </tr>\n",
       "    <tr>\n",
       "      <td>29996</td>\n",
       "      <td>150000</td>\n",
       "      <td>1</td>\n",
       "      <td>3</td>\n",
       "      <td>2</td>\n",
       "      <td>43</td>\n",
       "    </tr>\n",
       "    <tr>\n",
       "      <td>29997</td>\n",
       "      <td>30000</td>\n",
       "      <td>1</td>\n",
       "      <td>2</td>\n",
       "      <td>2</td>\n",
       "      <td>37</td>\n",
       "    </tr>\n",
       "    <tr>\n",
       "      <td>29998</td>\n",
       "      <td>80000</td>\n",
       "      <td>1</td>\n",
       "      <td>3</td>\n",
       "      <td>1</td>\n",
       "      <td>41</td>\n",
       "    </tr>\n",
       "    <tr>\n",
       "      <td>29999</td>\n",
       "      <td>50000</td>\n",
       "      <td>1</td>\n",
       "      <td>2</td>\n",
       "      <td>1</td>\n",
       "      <td>46</td>\n",
       "    </tr>\n",
       "  </tbody>\n",
       "</table>\n",
       "<p>30000 rows × 5 columns</p>\n",
       "</div>"
      ],
      "text/plain": [
       "       LIMIT_BAL  SEX  EDUCATION  MARRIAGE  AGE\n",
       "0          20000    2          2         1   24\n",
       "1         120000    2          2         2   26\n",
       "2          90000    2          2         2   34\n",
       "3          50000    2          2         1   37\n",
       "4          50000    1          2         1   57\n",
       "...          ...  ...        ...       ...  ...\n",
       "29995     220000    1          3         1   39\n",
       "29996     150000    1          3         2   43\n",
       "29997      30000    1          2         2   37\n",
       "29998      80000    1          3         1   41\n",
       "29999      50000    1          2         1   46\n",
       "\n",
       "[30000 rows x 5 columns]"
      ]
     },
     "execution_count": 60,
     "metadata": {},
     "output_type": "execute_result"
    }
   ],
   "source": [
    "features"
   ]
  },
  {
   "cell_type": "code",
   "execution_count": 61,
   "metadata": {},
   "outputs": [
    {
     "name": "stderr",
     "output_type": "stream",
     "text": [
      "C:\\Users\\rartavia\\Anaconda3\\lib\\site-packages\\ipykernel_launcher.py:1: SettingWithCopyWarning: \n",
      "A value is trying to be set on a copy of a slice from a DataFrame.\n",
      "Try using .loc[row_indexer,col_indexer] = value instead\n",
      "\n",
      "See the caveats in the documentation: http://pandas.pydata.org/pandas-docs/stable/user_guide/indexing.html#returning-a-view-versus-a-copy\n",
      "  \"\"\"Entry point for launching an IPython kernel.\n"
     ]
    },
    {
     "data": {
      "text/plain": [
       "array([1, 2, 3], dtype=int64)"
      ]
     },
     "execution_count": 61,
     "metadata": {},
     "output_type": "execute_result"
    }
   ],
   "source": [
    "features['MARRIAGE'] = np.where(features['MARRIAGE'] == 0, 3, features['MARRIAGE'])\n",
    "features['MARRIAGE'].unique()"
   ]
  },
  {
   "cell_type": "code",
   "execution_count": 65,
   "metadata": {},
   "outputs": [
    {
     "name": "stdout",
     "output_type": "stream",
     "text": [
      "***** Cantidad de Clientes por Estado Civil *****\n"
     ]
    },
    {
     "data": {
      "text/plain": [
       "MARRIAGE\n",
       "1    13659\n",
       "2    15964\n",
       "3      377\n",
       "Name: MARRIAGE, dtype: int64"
      ]
     },
     "execution_count": 65,
     "metadata": {},
     "output_type": "execute_result"
    }
   ],
   "source": [
    "# Cantidad de clientes por estado civil\n",
    "print('***** Cantidad de Clientes por Estado Civil *****')\n",
    "features.groupby('MARRIAGE')['MARRIAGE'].count()"
   ]
  },
  {
   "cell_type": "code",
   "execution_count": 63,
   "metadata": {},
   "outputs": [
    {
     "name": "stderr",
     "output_type": "stream",
     "text": [
      "C:\\Users\\rartavia\\Anaconda3\\lib\\site-packages\\ipykernel_launcher.py:1: SettingWithCopyWarning: \n",
      "A value is trying to be set on a copy of a slice from a DataFrame.\n",
      "Try using .loc[row_indexer,col_indexer] = value instead\n",
      "\n",
      "See the caveats in the documentation: http://pandas.pydata.org/pandas-docs/stable/user_guide/indexing.html#returning-a-view-versus-a-copy\n",
      "  \"\"\"Entry point for launching an IPython kernel.\n",
      "C:\\Users\\rartavia\\Anaconda3\\lib\\site-packages\\ipykernel_launcher.py:2: SettingWithCopyWarning: \n",
      "A value is trying to be set on a copy of a slice from a DataFrame.\n",
      "Try using .loc[row_indexer,col_indexer] = value instead\n",
      "\n",
      "See the caveats in the documentation: http://pandas.pydata.org/pandas-docs/stable/user_guide/indexing.html#returning-a-view-versus-a-copy\n",
      "  \n",
      "C:\\Users\\rartavia\\Anaconda3\\lib\\site-packages\\ipykernel_launcher.py:3: SettingWithCopyWarning: \n",
      "A value is trying to be set on a copy of a slice from a DataFrame.\n",
      "Try using .loc[row_indexer,col_indexer] = value instead\n",
      "\n",
      "See the caveats in the documentation: http://pandas.pydata.org/pandas-docs/stable/user_guide/indexing.html#returning-a-view-versus-a-copy\n",
      "  This is separate from the ipykernel package so we can avoid doing imports until\n"
     ]
    },
    {
     "data": {
      "text/plain": [
       "array([2, 1, 3, 4], dtype=int64)"
      ]
     },
     "execution_count": 63,
     "metadata": {},
     "output_type": "execute_result"
    }
   ],
   "source": [
    "features['EDUCATION'] = np.where(features['EDUCATION'] == 5, 4, features['EDUCATION'])\n",
    "features['EDUCATION'] = np.where(features['EDUCATION'] == 6, 4, features['EDUCATION'])\n",
    "features['EDUCATION'] = np.where(features['EDUCATION'] == 0, 4, features['EDUCATION'])\n",
    "features['EDUCATION'].unique()"
   ]
  },
  {
   "cell_type": "code",
   "execution_count": 66,
   "metadata": {},
   "outputs": [
    {
     "name": "stdout",
     "output_type": "stream",
     "text": [
      "***** Cantidad de Clientes por Educación *****\n"
     ]
    },
    {
     "data": {
      "text/plain": [
       "EDUCATION\n",
       "1    10585\n",
       "2    14030\n",
       "3     4917\n",
       "4      468\n",
       "Name: EDUCATION, dtype: int64"
      ]
     },
     "execution_count": 66,
     "metadata": {},
     "output_type": "execute_result"
    }
   ],
   "source": [
    "# Cantidad de clientes por grado de educación\n",
    "print('***** Cantidad de Clientes por Educación *****')\n",
    "features.groupby('EDUCATION')['EDUCATION'].count()"
   ]
  },
  {
   "cell_type": "code",
   "execution_count": 67,
   "metadata": {},
   "outputs": [
    {
     "name": "stdout",
     "output_type": "stream",
     "text": [
      "*** Cantidad de observaciones para entrenamiento(indepenientes):  21000\n",
      "       LIMIT_BAL  SEX  EDUCATION  MARRIAGE  AGE\n",
      "16395     320000    2          1         2   36\n",
      "21448     440000    2          1         2   30\n",
      "20034     160000    2          3         1   44\n",
      "25755     120000    2          2         1   30\n",
      "1438       50000    1          2         2   54\n",
      "*** El número de observaciones para entrenamiento(dependiente):  21000\n",
      "16395    0\n",
      "21448    0\n",
      "20034    0\n",
      "25755    0\n",
      "1438     0\n",
      "Name: default payment next month, dtype: int64\n"
     ]
    }
   ],
   "source": [
    "# Creación de los conjuntos de entrenamiento y pruebas (70/30)\n",
    "X_train1, X_test1, y_train1, y_test1 = train_test_split(features, depVar, train_size = 0.70, random_state = 123)\n",
    "print('*** Cantidad de observaciones para entrenamiento(indepenientes): ', str(len(X_train1)))\n",
    "print(X_train1.head())\n",
    "print('*** El número de observaciones para entrenamiento(dependiente): ',str(len(y_train1.index)))\n",
    "print(y_train1.head())"
   ]
  },
  {
   "cell_type": "code",
   "execution_count": 68,
   "metadata": {},
   "outputs": [
    {
     "name": "stdout",
     "output_type": "stream",
     "text": [
      "*** Cantidad de observaciones para pruebas(indepenientes):  9000\n",
      "       LIMIT_BAL  SEX  EDUCATION  MARRIAGE  AGE\n",
      "25665      40000    2          2         2   26\n",
      "16464      80000    2          3         1   59\n",
      "22386     170000    2          1         2   30\n",
      "10149     200000    2          2         1   41\n",
      "8729       50000    1          2         1   43\n",
      "*** El número de observaciones para pruebas(dependiente):  9000\n",
      "25665    0\n",
      "16464    0\n",
      "22386    1\n",
      "10149    1\n",
      "8729     0\n",
      "Name: default payment next month, dtype: int64\n"
     ]
    }
   ],
   "source": [
    "# Conjunto de pruebas (Testing)\n",
    "print('*** Cantidad de observaciones para pruebas(indepenientes): ',str(len(X_test1.index)))\n",
    "print(X_test1.head())\n",
    "print('*** El número de observaciones para pruebas(dependiente): ',str(len(y_test1.index)))\n",
    "print(y_test1.head())"
   ]
  },
  {
   "cell_type": "markdown",
   "metadata": {},
   "source": [
    "Ajustes a los modelos que son utilizados"
   ]
  },
  {
   "cell_type": "code",
   "execution_count": 78,
   "metadata": {},
   "outputs": [],
   "source": [
    "#Definición para los modelos a utilizar\n",
    "modelSVC1 = SVC(gamma='auto', probability=True)\n",
    "modelRF1 = RandomForestClassifier(n_jobs=2, random_state=0)\n",
    "modelRC1 = RidgeClassifier(alpha=2.0, max_iter=5)"
   ]
  },
  {
   "cell_type": "code",
   "execution_count": 79,
   "metadata": {},
   "outputs": [
    {
     "name": "stdout",
     "output_type": "stream",
     "text": [
      "[0.72357143 0.72357143 0.72333333 0.72833333 0.72880952]\n"
     ]
    },
    {
     "data": {
      "text/plain": [
       "0.8467619047619047"
      ]
     },
     "execution_count": 79,
     "metadata": {},
     "output_type": "execute_result"
    }
   ],
   "source": [
    "# Random Forest\n",
    "modelRF1.fit(X_train1,y_train1)\n",
    "print(cross_val_score(modelRF1, X_train1, y_train1))\n",
    "modelRF1.score(X_train1,y_train1)"
   ]
  },
  {
   "cell_type": "code",
   "execution_count": 80,
   "metadata": {},
   "outputs": [
    {
     "name": "stdout",
     "output_type": "stream",
     "text": [
      "[0.77690476 0.77690476 0.77666667 0.77666667 0.77666667]\n"
     ]
    },
    {
     "data": {
      "text/plain": [
       "0.7767619047619048"
      ]
     },
     "execution_count": 80,
     "metadata": {},
     "output_type": "execute_result"
    }
   ],
   "source": [
    "# Ridge Classifier\n",
    "modelRC1.fit(X_train1,y_train1)\n",
    "print(cross_val_score(modelRC1, X_train1, y_train1))\n",
    "modelRC1.score(X_train1,y_train1)"
   ]
  },
  {
   "cell_type": "code",
   "execution_count": 81,
   "metadata": {},
   "outputs": [
    {
     "name": "stdout",
     "output_type": "stream",
     "text": [
      "[0.7752381  0.77285714 0.77119048 0.77428571 0.77547619]\n"
     ]
    },
    {
     "data": {
      "text/plain": [
       "0.7820476190476191"
      ]
     },
     "execution_count": 81,
     "metadata": {},
     "output_type": "execute_result"
    }
   ],
   "source": [
    "# Support Vector Classification (SVC)\n",
    "modelSVC1.fit(X_train1,y_train1)\n",
    "print(cross_val_score(modelSVC1, X_train1, y_train1))\n",
    "modelSVC1.score(X_train1,y_train1)"
   ]
  },
  {
   "cell_type": "code",
   "execution_count": 82,
   "metadata": {},
   "outputs": [],
   "source": [
    "# Haciendo las predicciones\n",
    "predictions1 = modelRF1.predict(X_test1)"
   ]
  },
  {
   "cell_type": "code",
   "execution_count": 83,
   "metadata": {},
   "outputs": [],
   "source": [
    "## Evaluando los resultados\n",
    "# Cálculo del RMSE\n",
    "rmse1 = sqrt(mean_squared_error(y_test1, predictions1))\n",
    "predRsquared1 = r2_score(y_test1,predictions1)"
   ]
  },
  {
   "cell_type": "code",
   "execution_count": 84,
   "metadata": {},
   "outputs": [
    {
     "name": "stdout",
     "output_type": "stream",
     "text": [
      "R Squared: -0.580\n",
      "RMSE: 0.518\n"
     ]
    }
   ],
   "source": [
    "# Cálculos\n",
    "predictions1 = modelRF1.predict(X_test1)\n",
    "predRsquared1 = r2_score(y_test1,predictions1)\n",
    "rmse1 = sqrt(mean_squared_error(y_test1, predictions1))\n",
    "print('R Squared: %.3f' % predRsquared1)\n",
    "print('RMSE: %.3f' % rmse1)"
   ]
  },
  {
   "cell_type": "code",
   "execution_count": 85,
   "metadata": {},
   "outputs": [
    {
     "data": {
      "image/png": "[encoded data removed]",
      "text/plain": [
       "<Figure size 720x576 with 1 Axes>"
      ]
     },
     "metadata": {
      "needs_background": "light"
     },
     "output_type": "display_data"
    }
   ],
   "source": [
    "# Graficando los resultados\n",
    "plt.scatter(y_test1, predictions1, alpha = 0.5) #, color=['blue','green'])\n",
    "plt.xlabel('Ground Truth')\n",
    "plt.ylabel('Predictions')\n",
    "plt.show();"
   ]
  }
 ],
 "metadata": {
  "kernelspec": {
   "display_name": "Python 3",
   "language": "python",
   "name": "python3"
  },
  "language_info": {
   "codemirror_mode": {
    "name": "ipython",
    "version": 3
   },
   "file_extension": ".py",
   "mimetype": "text/x-python",
   "name": "python",
   "nbconvert_exporter": "python",
   "pygments_lexer": "ipython3",
   "version": "3.7.4"
  }
 },
 "nbformat": 4,
 "nbformat_minor": 2
}
